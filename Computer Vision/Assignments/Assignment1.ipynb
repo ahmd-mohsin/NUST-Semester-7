{
 "cells": [
  {
   "cell_type": "markdown",
   "metadata": {},
   "source": [
    "# Assignment 1"
   ]
  },
  {
   "cell_type": "code",
   "execution_count": 33,
   "metadata": {},
   "outputs": [],
   "source": [
    "import math\n",
    "import cv2\n",
    "import numpy as np\n",
    "import matplotlib.pyplot as plt"
   ]
  },
  {
   "cell_type": "markdown",
   "metadata": {},
   "source": [
    "### Part  1\n",
    "\n",
    "### Take any image and perform Gaussian filtering, box filtering and median filtering. Also provide comments on the results."
   ]
  },
  {
   "cell_type": "markdown",
   "metadata": {},
   "source": [
    "Guassian"
   ]
  },
  {
   "cell_type": "code",
   "execution_count": 34,
   "metadata": {},
   "outputs": [],
   "source": [
    "def generate_gaussian_kernel(size=5, sigma=5):\n",
    "    \n",
    "    axis = np.linspace(-(size - 1) / 2., (size - 1) / 2., size)\n",
    "    x, y = np.meshgrid(axis, axis)\n",
    "\n",
    "    gaussian_kernel = np.exp(-0.5 * (np.square(x) + np.square(y)) / np.square(sigma))\n",
    "\n",
    "    return gaussian_kernel / np.sum(gaussian_kernel)"
   ]
  },
  {
   "cell_type": "code",
   "execution_count": 35,
   "metadata": {},
   "outputs": [
    {
     "name": "stdout",
     "output_type": "stream",
     "text": [
      "Gaussian Kernel:  [[0.03964547 0.03991066 0.03999945 0.03991066 0.03964547]\n",
      " [0.03991066 0.04017762 0.040267   0.04017762 0.03991066]\n",
      " [0.03999945 0.040267   0.04035658 0.040267   0.03999945]\n",
      " [0.03991066 0.04017762 0.040267   0.04017762 0.03991066]\n",
      " [0.03964547 0.03991066 0.03999945 0.03991066 0.03964547]]\n"
     ]
    }
   ],
   "source": [
    "# Load the image\n",
    "image = cv2.imread('image.jpeg')\n",
    "\n",
    "# Convert the image to grayscale\n",
    "gray_image = cv2.cvtColor(image, cv2.COLOR_BGR2GRAY)\n",
    "\n",
    "# Generate a Gaussian kernel\n",
    "kernel_size = 5\n",
    "sigma = 15\n",
    "gaussian_kernel = generate_gaussian_kernel(kernel_size, sigma)\n",
    "\n",
    "# Apply the Gaussian filter\n",
    "filtered_image = cv2.filter2D(gray_image, -1, gaussian_kernel)\n",
    "\n",
    "# Convert the filtered image back to RGB\n",
    "filtered_image_rgb = cv2.cvtColor(filtered_image, cv2.COLOR_GRAY2RGB)\n",
    "\n",
    "# Print the kernel\n",
    "print(\"Gaussian Kernel: \", gaussian_kernel)\n"
   ]
  },
  {
   "cell_type": "code",
   "execution_count": 36,
   "metadata": {},
   "outputs": [],
   "source": [
    "# Display and save the results\n",
    "cv2.imshow('Original Image', img)\n",
    "cv2.imshow('Gaussian Blur', dst)\n",
    "\n",
    "cv2.waitKey(0)\n",
    "cv2.destroyAllWindows()"
   ]
  },
  {
   "cell_type": "markdown",
   "metadata": {},
   "source": [
    "Box Filtering"
   ]
  },
  {
   "cell_type": "code",
   "execution_count": 37,
   "metadata": {},
   "outputs": [],
   "source": [
    "def box_blur(image, kernel_size):\n",
    "    height, width = image.shape\n",
    "    kernel = np.ones((kernel_size, kernel_size), np.float32) / (kernel_size**2)\n",
    "    \n",
    "    result = np.zeros((height, width), dtype=np.uint8)\n",
    "    \n",
    "    half_kernel = kernel_size // 2\n",
    "\n",
    "    for y in range(half_kernel, height - half_kernel):\n",
    "        for x in range(half_kernel, width - half_kernel):\n",
    "            # Apply the kernel to the neighborhood\n",
    "            neighborhood = image[y - half_kernel:y + half_kernel + 1, x - half_kernel:x + half_kernel + 1]\n",
    "            weighted_sum = np.sum(neighborhood * kernel)\n",
    "            result[y, x] = int(weighted_sum)\n",
    "    \n",
    "    return result\n"
   ]
  },
  {
   "cell_type": "code",
   "execution_count": 38,
   "metadata": {},
   "outputs": [],
   "source": [
    "image = cv2.imread('image.jpeg', cv2.IMREAD_GRAYSCALE)\n",
    "kernel_size = 5\n",
    "blurred_image = box_blur(image, kernel_size)\n",
    "cv2.imshow('Original Image', image)\n",
    "cv2.imshow('Box Blur', blurred_image)\n",
    "cv2.waitKey(0)\n",
    "cv2.destroyAllWindows()"
   ]
  },
  {
   "cell_type": "markdown",
   "metadata": {},
   "source": [
    "Median Filtering"
   ]
  },
  {
   "cell_type": "code",
   "execution_count": null,
   "metadata": {},
   "outputs": [],
   "source": [
    "\n"
   ]
  },
  {
   "cell_type": "markdown",
   "metadata": {},
   "source": [
    "### Part 2\n",
    "\n",
    "### Take any image and detect edges by using Sobel and Perwitt Kernel. Comment on both results."
   ]
  },
  {
   "cell_type": "markdown",
   "metadata": {},
   "source": [
    "prewit"
   ]
  },
  {
   "cell_type": "code",
   "execution_count": 39,
   "metadata": {},
   "outputs": [],
   "source": [
    "#define a prewtitt kernel\n",
    "kernel_x = np.array([[-1,0,1],[-1,0,1],[-1,0,1]])\n",
    "kernel_y = np.array([[-1,-1,-1],[0,0,0],[1,1,1]])\n",
    "#read the image in grayscale\n",
    "img = cv2.imread('image.jpeg',0)\n",
    "#apply the kernels to the image and add the images\n",
    "prewittx = cv2.filter2D(img, -1, kernel_x)\n",
    "prewitty = cv2.filter2D(img, -1, kernel_y)\n",
    "#invert the image for edge detection\n",
    "#prewittx = cv2.bitwise_not(prewittx)\n",
    "#prewitty = cv2.bitwise_not(prewitty)\n",
    "#show the image\n",
    "cv2.imshow('Original Image', img)\n",
    "cv2.imshow('Prewitt X', prewittx)\n",
    "cv2.imshow('Prewitt Y', prewitty)\n",
    "cv2.waitKey(0)\n",
    "cv2.destroyAllWindows()"
   ]
  },
  {
   "cell_type": "markdown",
   "metadata": {},
   "source": [
    "Sobel"
   ]
  },
  {
   "cell_type": "code",
   "execution_count": 40,
   "metadata": {},
   "outputs": [],
   "source": [
    "#define a sobel kernel\n",
    "kernel_x = np.array([[-1,0,1],[-2,0,2],[-1,0,1]])\n",
    "kernel_y = np.array([[-1,-2,-1],[0,0,0],[1,2,1]])\n",
    "#read the image in grayscale\n",
    "img = cv2.imread('image.jpeg',0)\n",
    "#apply the kernels to the image and add the images\n",
    "sobelx = cv2.filter2D(img, -1, kernel_x)\n",
    "sobely = cv2.filter2D(img, -1, kernel_y)\n",
    "#invert the image for edge detection\n",
    "#sobelx = cv2.bitwise_not(sobelx)\n",
    "#sobely = cv2.bitwise_not(sobely)\n",
    "#show the image\n",
    "cv2.imshow('Original Image', img)\n",
    "cv2.imshow('Sobel X', sobelx)\n",
    "cv2.imshow('Sobel Y', sobely)\n",
    "cv2.waitKey(0)\n",
    "cv2.destroyAllWindows()\n"
   ]
  },
  {
   "cell_type": "markdown",
   "metadata": {},
   "source": [
    "Part 3\n",
    "\n",
    "Take any image and plot its histogram representation."
   ]
  },
  {
   "cell_type": "code",
   "execution_count": 41,
   "metadata": {},
   "outputs": [
    {
     "data": {
      "image/png": "[encoded data removed]",
      "text/plain": [
       "<Figure size 640x480 with 1 Axes>"
      ]
     },
     "metadata": {},
     "output_type": "display_data"
    }
   ],
   "source": [
    "\n",
    "# Load the image in grayscale\n",
    "img = cv2.imread('image.jpeg', 0)\n",
    "\n",
    "# Calculate the histogram\n",
    "hist = cv2.calcHist([img], [0], None, [256], [0, 256])\n",
    "\n",
    "# Create a figure and axis\n",
    "fig, ax = plt.subplots()\n",
    "\n",
    "# Customize the plot\n",
    "ax.plot(hist, color='black')\n",
    "ax.fill_between(range(256), hist.flatten(), 0, color='red', alpha=0.6)\n",
    "ax.set_xlim(0, 256)\n",
    "ax.set_ylim(0, max(hist) + 1000)\n",
    "ax.set_xlabel('Pixel Value')\n",
    "ax.set_ylabel('Frequency')\n",
    "ax.set_title('Image Histogram')\n",
    "ax.grid(True)\n",
    "\n",
    "# Show the plot\n",
    "plt.show()"
   ]
  },
  {
   "cell_type": "markdown",
   "metadata": {},
   "source": [
    "Part 4 \n",
    "\n",
    "Take a colored image and provide its gray and binary representation."
   ]
  },
  {
   "cell_type": "code",
   "execution_count": 43,
   "metadata": {},
   "outputs": [
    {
     "ename": "error",
     "evalue": "OpenCV(4.8.1) D:\\a\\opencv-python\\opencv-python\\opencv\\modules\\imgproc\\src\\color.cpp:182: error: (-215:Assertion failed) !_src.empty() in function 'cv::cvtColor'\n",
     "output_type": "error",
     "traceback": [
      "\u001b[1;31m---------------------------------------------------------------------------\u001b[0m",
      "\u001b[1;31merror\u001b[0m                                     Traceback (most recent call last)",
      "\u001b[1;32mc:\\Users\\ahmed\\Desktop\\Semester 7\\Computer Vision\\Assignments\\Assignment1.ipynb Cell 21\u001b[0m line \u001b[0;36m5\n\u001b[0;32m      <a href='vscode-notebook-cell:/c%3A/Users/ahmed/Desktop/Semester%207/Computer%20Vision/Assignments/Assignment1.ipynb#X14sZmlsZQ%3D%3D?line=1'>2</a>\u001b[0m image \u001b[39m=\u001b[39m cv2\u001b[39m.\u001b[39mimread(\u001b[39m'\u001b[39m\u001b[39mimage.jpg\u001b[39m\u001b[39m'\u001b[39m)\n\u001b[0;32m      <a href='vscode-notebook-cell:/c%3A/Users/ahmed/Desktop/Semester%207/Computer%20Vision/Assignments/Assignment1.ipynb#X14sZmlsZQ%3D%3D?line=3'>4</a>\u001b[0m \u001b[39m# Convert the image to grayscale\u001b[39;00m\n\u001b[1;32m----> <a href='vscode-notebook-cell:/c%3A/Users/ahmed/Desktop/Semester%207/Computer%20Vision/Assignments/Assignment1.ipynb#X14sZmlsZQ%3D%3D?line=4'>5</a>\u001b[0m gray_image \u001b[39m=\u001b[39m cv2\u001b[39m.\u001b[39;49mcvtColor(image, cv2\u001b[39m.\u001b[39;49mCOLOR_BGR2GRAY)\n\u001b[0;32m      <a href='vscode-notebook-cell:/c%3A/Users/ahmed/Desktop/Semester%207/Computer%20Vision/Assignments/Assignment1.ipynb#X14sZmlsZQ%3D%3D?line=6'>7</a>\u001b[0m \u001b[39m# Apply thresholding to create a binary image\u001b[39;00m\n\u001b[0;32m      <a href='vscode-notebook-cell:/c%3A/Users/ahmed/Desktop/Semester%207/Computer%20Vision/Assignments/Assignment1.ipynb#X14sZmlsZQ%3D%3D?line=7'>8</a>\u001b[0m _, binary_image \u001b[39m=\u001b[39m cv2\u001b[39m.\u001b[39mthreshold(gray_image, \u001b[39m128\u001b[39m, \u001b[39m255\u001b[39m, cv2\u001b[39m.\u001b[39mTHRESH_BINARY)\n",
      "\u001b[1;31merror\u001b[0m: OpenCV(4.8.1) D:\\a\\opencv-python\\opencv-python\\opencv\\modules\\imgproc\\src\\color.cpp:182: error: (-215:Assertion failed) !_src.empty() in function 'cv::cvtColor'\n"
     ]
    }
   ],
   "source": [
    "# Load a colored image\n",
    "image = cv2.imread('image.jpg')\n",
    "\n",
    "# Convert the image to grayscale\n",
    "gray_image = cv2.cvtColor(image, cv2.COLOR_BGR2GRAY)\n",
    "\n",
    "# Apply thresholding to create a binary image\n",
    "_, binary_image = cv2.threshold(gray_image, 128, 255, cv2.THRESH_BINARY)\n",
    "\n",
    "# Display the original, grayscale, and binary images\n",
    "cv2.imshow('Original Image', image)\n",
    "cv2.imshow('Grayscale Image', gray_image)\n",
    "cv2.imshow('Binary Image', binary_image)\n",
    "\n",
    "cv2.waitKey(0)\n",
    "cv2.destroyAllWindows()"
   ]
  },
  {
   "cell_type": "markdown",
   "metadata": {},
   "source": [
    "Part 5\n",
    "\n",
    "Take any image and detect the corners by employing Harris corner detection."
   ]
  }
 ],
 "metadata": {
  "kernelspec": {
   "display_name": "ml",
   "language": "python",
   "name": "python3"
  },
  "language_info": {
   "codemirror_mode": {
    "name": "ipython",
    "version": 3
   },
   "file_extension": ".py",
   "mimetype": "text/x-python",
   "name": "python",
   "nbconvert_exporter": "python",
   "pygments_lexer": "ipython3",
   "version": "3.10.13"
  }
 },
 "nbformat": 4,
 "nbformat_minor": 2
}
