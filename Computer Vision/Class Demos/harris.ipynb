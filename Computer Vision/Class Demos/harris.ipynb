{
 "cells": [
  {
   "cell_type": "code",
   "execution_count": null,
   "metadata": {},
   "outputs": [],
   "source": [
    "from scipy.ndimage import filters\n",
    "import numpy as np"
   ]
  },
  {
   "cell_type": "code",
   "execution_count": null,
   "metadata": {},
   "outputs": [],
   "source": [
    "def compute_harris_response(im,sigma=3):\n",
    "    # derivatives\n",
    "    imx = np.zeros(im.shape)\n",
    "    filters.gaussian_filter(im, (sigma,sigma), (0,1), imx)\n",
    "    imy = np.zeros(im.shape)\n",
    "    filters.gaussian_filter(im, (sigma,sigma), (1,0), imy)\n",
    "    # compute components of the Harris matrix\n",
    "    Wxx = filters.gaussian_filter(imx*imx,sigma)\n",
    "    Wxy = filters.gaussian_filter(imx*imy,sigma)\n",
    "    Wyy = filters.gaussian_filter(imy*imy,sigma)\n",
    "    # determinant and trace\n",
    "    Wdet = Wxx*Wyy - Wxy**2\n",
    "    Wtr = Wxx + Wyy\n",
    "    harris_im = Wdet / Wtr\n",
    "    return harris_im"
   ]
  },
  {
   "cell_type": "code",
   "execution_count": null,
   "metadata": {},
   "outputs": [],
   "source": [
    "def get_harris_points(harrisim, min_dist=10, threshold=0.1):\n",
    "    # Find top corner candidates above a threshold\n",
    "    corner_threshold = harrisim.max() * threshold\n",
    "    harrisim_t = (harrisim > corner_threshold) * 1\n",
    "    # Get coordinates of candidates\n",
    "    coords = np.array(harrisim_t.nonzero()).T\n",
    "    # ...and their values\n",
    "    candidate_values = [harrisim[c[0], c[1]] for c in coords]\n",
    "    # Sort candidates\n",
    "    index = np.argsort(candidate_values)\n",
    "    # Store allowed point locations in an array\n",
    "    allowed_locations = np.zeros(harrisim.shape)\n",
    "    allowed_locations[min_dist:-min_dist, min_dist:-min_dist] = 1\n",
    "    # Select the best points taking min_distance into account\n",
    "    filtered_coords = []\n",
    "    for i in index:\n",
    "        if allowed_locations[coords[i, 0], coords[i, 1]] == 1:\n",
    "            filtered_coords.append(coords[i])\n",
    "            allowed_locations[\n",
    "                (coords[i, 0] - min_dist):(coords[i, 0] + min_dist),\n",
    "                (coords[i, 1] - min_dist):(coords[i, 1] + min_dist)\n",
    "            ] = 0\n",
    "    return filtered_coords"
   ]
  },
  {
   "cell_type": "code",
   "execution_count": null,
   "metadata": {},
   "outputs": [],
   "source": [
    "def plot_harris_points(image, filtered_coords):\n",
    "    import matplotlib.pyplot as plt\n",
    "    plt.figure()\n",
    "    plt.gray()\n",
    "    plt.imshow(image)\n",
    "    plt.plot([p[1] for p in filtered_coords], [p[0] for p in filtered_coords], '*')\n",
    "    plt.axis('off')\n",
    "    plt.show()"
   ]
  },
  {
   "cell_type": "code",
   "execution_count": null,
   "metadata": {},
   "outputs": [],
   "source": [
    "from numpy import array\n",
    "from PIL import Image\n",
    "im = array(Image.open('empire.jpg').convert('L'))\n",
    "harrisim = harris.compute_harris_response(im)\n",
    "filtered_coords = harris.get_harris_points(harrisim,6)\n",
    "harris.plot_harris_points(im, filtered_coords)"
   ]
  },
  {
   "cell_type": "markdown",
   "metadata": {},
   "source": [
    "## Lab 4"
   ]
  },
  {
   "cell_type": "markdown",
   "metadata": {},
   "source": [
    "TASK 1\n",
    "\n",
    "Load the house.jpg file for this task. Use the Gaussian blur function to blur at least one of the windows. Use 13x13 size kernel for the blur.\n",
    "\n",
    "Additionally, you will need to apply Canny edge detection on the original house image. You must apply 2 of these edge detections; one on the original picture and second on a slightly blurred picture. Use same threshold values on both edge detections.\n"
   ]
  },
  {
   "cell_type": "code",
   "execution_count": 17,
   "metadata": {},
   "outputs": [],
   "source": [
    "import cv2\n",
    "import numpy as np\n",
    " "
   ]
  },
  {
   "cell_type": "code",
   "execution_count": null,
   "metadata": {},
   "outputs": [],
   "source": [
    "image = cv2.imread('lab4_house.jpg')\n",
    "\n",
    "# Apply Canny edge detection on the original imag\n",
    "edges_original = cv2.Canny(image, 100, 200)  \n",
    "\n",
    "# Apply Gaussian blur to the image\n",
    "blurred_image = cv2.GaussianBlur(image, (13, 13), 0)\n",
    "\n",
    "# Apply Canny edge detection on the slightly blurred image\n",
    "edges_blurred = cv2.Canny(blurred_image, 100, 200)  \n",
    "\n",
    "\n",
    "cv2.imshow('Original Image', image)\n",
    "cv2.imshow('Edges on Original Image', edges_original)\n",
    "cv2.imshow('Blurred Image', blurred_image)\n",
    "cv2.imshow('Edges on Blurred Image', edges_blurred)\n",
    "\n"
   ]
  },
  {
   "cell_type": "code",
   "execution_count": 19,
   "metadata": {},
   "outputs": [],
   "source": [
    "image = cv2.imread('lab4_house.jpg')"
   ]
  },
  {
   "cell_type": "code",
   "execution_count": 23,
   "metadata": {},
   "outputs": [
    {
     "ename": "error",
     "evalue": "OpenCV(4.8.1) D:\\a\\opencv-python\\opencv-python\\opencv\\modules\\highgui\\src\\window.cpp:971: error: (-215:Assertion failed) size.width>0 && size.height>0 in function 'cv::imshow'\n",
     "output_type": "error",
     "traceback": [
      "\u001b[1;31m---------------------------------------------------------------------------\u001b[0m",
      "\u001b[1;31merror\u001b[0m                                     Traceback (most recent call last)",
      "\u001b[1;32mc:\\Users\\ahmed\\Desktop\\Semester 7\\Computer Vision\\Class Demos\\harris.ipynb Cell 11\u001b[0m line \u001b[0;36m1\n\u001b[1;32m----> <a href='vscode-notebook-cell:/c%3A/Users/ahmed/Desktop/Semester%207/Computer%20Vision/Class%20Demos/harris.ipynb#X22sZmlsZQ%3D%3D?line=0'>1</a>\u001b[0m cv2\u001b[39m.\u001b[39;49mimshow(\u001b[39m'\u001b[39;49m\u001b[39mOriginal Image\u001b[39;49m\u001b[39m'\u001b[39;49m, image)\n",
      "\u001b[1;31merror\u001b[0m: OpenCV(4.8.1) D:\\a\\opencv-python\\opencv-python\\opencv\\modules\\highgui\\src\\window.cpp:971: error: (-215:Assertion failed) size.width>0 && size.height>0 in function 'cv::imshow'\n"
     ]
    }
   ],
   "source": [
    "cv2.imshow('Original Image', image)"
   ]
  },
  {
   "cell_type": "markdown",
   "metadata": {},
   "source": [
    "TASK 2"
   ]
  },
  {
   "cell_type": "code",
   "execution_count": 18,
   "metadata": {},
   "outputs": [
    {
     "ename": "error",
     "evalue": "OpenCV(4.8.1) D:\\a\\opencv-python\\opencv-python\\opencv\\modules\\highgui\\src\\window.cpp:971: error: (-215:Assertion failed) size.width>0 && size.height>0 in function 'cv::imshow'\n",
     "output_type": "error",
     "traceback": [
      "\u001b[1;31m---------------------------------------------------------------------------\u001b[0m",
      "\u001b[1;31merror\u001b[0m                                     Traceback (most recent call last)",
      "\u001b[1;32mc:\\Users\\ahmed\\Desktop\\Semester 7\\Computer Vision\\Class Demos\\harris.ipynb Cell 11\u001b[0m line \u001b[0;36m1\n\u001b[0;32m     <a href='vscode-notebook-cell:/c%3A/Users/ahmed/Desktop/Semester%207/Computer%20Vision/Class%20Demos/harris.ipynb#X15sZmlsZQ%3D%3D?line=12'>13</a>\u001b[0m eight_pointed_star \u001b[39m=\u001b[39m cv2\u001b[39m.\u001b[39mbitwise_or(square1, square2)\n\u001b[0;32m     <a href='vscode-notebook-cell:/c%3A/Users/ahmed/Desktop/Semester%207/Computer%20Vision/Class%20Demos/harris.ipynb#X15sZmlsZQ%3D%3D?line=14'>15</a>\u001b[0m \u001b[39m# Display the resulting images\u001b[39;00m\n\u001b[1;32m---> <a href='vscode-notebook-cell:/c%3A/Users/ahmed/Desktop/Semester%207/Computer%20Vision/Class%20Demos/harris.ipynb#X15sZmlsZQ%3D%3D?line=15'>16</a>\u001b[0m cv2\u001b[39m.\u001b[39;49mimshow(\u001b[39m'\u001b[39;49m\u001b[39mOctagon\u001b[39;49m\u001b[39m'\u001b[39;49m, octagon)\n\u001b[0;32m     <a href='vscode-notebook-cell:/c%3A/Users/ahmed/Desktop/Semester%207/Computer%20Vision/Class%20Demos/harris.ipynb#X15sZmlsZQ%3D%3D?line=16'>17</a>\u001b[0m cv2\u001b[39m.\u001b[39mimshow(\u001b[39m'\u001b[39m\u001b[39m8-Pointed Star\u001b[39m\u001b[39m'\u001b[39m, eight_pointed_star)\n\u001b[0;32m     <a href='vscode-notebook-cell:/c%3A/Users/ahmed/Desktop/Semester%207/Computer%20Vision/Class%20Demos/harris.ipynb#X15sZmlsZQ%3D%3D?line=18'>19</a>\u001b[0m \u001b[39m# Wait for a key press and then close the windows\u001b[39;00m\n",
      "\u001b[1;31merror\u001b[0m: OpenCV(4.8.1) D:\\a\\opencv-python\\opencv-python\\opencv\\modules\\highgui\\src\\window.cpp:971: error: (-215:Assertion failed) size.width>0 && size.height>0 in function 'cv::imshow'\n"
     ]
    }
   ],
   "source": [
    "\n",
    "\n",
    "# Load the 'square1' and 'square2' images\n",
    "square1 = cv2.imread('lab4_square1.png', cv2.IMREAD_GRAYSCALE)\n",
    "square2 = cv2.imread('lab4_square2.png', cv2.IMREAD_GRAYSCALE)\n",
    "\n",
    "# Invert the pixel values so that white pixels are 0 and black pixels are 255\n",
    "square1 = cv2.bitwise_not(square1)\n",
    "square2 = cv2.bitwise_not(square2)\n",
    "\n",
    "# Create an octagon using bitwise AND operation\n",
    "octagon = cv2.bitwise_and(square1, square2)\n",
    "\n",
    "# Create an 8-pointed star using bitwise OR operation\n",
    "eight_pointed_star = cv2.bitwise_or(square1, square2)\n",
    "\n",
    "# Display the resulting images\n",
    "cv2.imshow('Octagon', octagon)\n",
    "cv2.imshow('8-Pointed Star', eight_pointed_star)\n",
    "\n",
    "# Wait for a key press and then close the windows\n",
    "cv2.waitKey(0)\n",
    "cv2.destroyAllWindows()\n"
   ]
  },
  {
   "cell_type": "code",
   "execution_count": null,
   "metadata": {},
   "outputs": [],
   "source": []
  }
 ],
 "metadata": {
  "kernelspec": {
   "display_name": "ml",
   "language": "python",
   "name": "python3"
  },
  "language_info": {
   "codemirror_mode": {
    "name": "ipython",
    "version": 3
   },
   "file_extension": ".py",
   "mimetype": "text/x-python",
   "name": "python",
   "nbconvert_exporter": "python",
   "pygments_lexer": "ipython3",
   "version": "3.10.13"
  },
  "orig_nbformat": 4
 },
 "nbformat": 4,
 "nbformat_minor": 2
}
