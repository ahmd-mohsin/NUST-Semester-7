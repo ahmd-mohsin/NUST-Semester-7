{
 "cells": [
  {
   "cell_type": "markdown",
   "metadata": {},
   "source": [
    "### Lab Task 1"
   ]
  },
  {
   "cell_type": "code",
   "execution_count": 1,
   "metadata": {},
   "outputs": [
    {
     "name": "stdout",
     "output_type": "stream",
     "text": [
      "M\n",
      "A\n",
      "N\n",
      "I\n",
      "P\n",
      "U\n",
      "L\n",
      "A\n",
      "T\n",
      "O\n",
      "R\n"
     ]
    }
   ],
   "source": [
    "\"\"\"\n",
    "Create a simple list containing the characters of the word: MANIPULATOR. Loop through the list and display each character on a new line.\n",
    "\"\"\"\n",
    "\n",
    "name_list = [\"M\", \"A\", \"N\", \"I\", \"P\", \"U\", \"L\", \"A\", \"T\", \"O\", \"R\"]\n",
    "\n",
    "for character in name_list:\n",
    "    print(f\"{character}\")"
   ]
  },
  {
   "cell_type": "markdown",
   "metadata": {},
   "source": [
    "### Lab Task 2"
   ]
  },
  {
   "cell_type": "code",
   "execution_count": 2,
   "metadata": {},
   "outputs": [
    {
     "name": "stdout",
     "output_type": "stream",
     "text": [
      "Enter the size of the list:  4\n",
      "Enter an input:  2\n",
      "Enter an input:  3\n",
      "Enter an input:  7\n",
      "Enter an input:  3\n"
     ]
    },
    {
     "name": "stdout",
     "output_type": "stream",
     "text": [
      "['2', '3', '7', '3']\n"
     ]
    }
   ],
   "source": [
    "\"\"\"\n",
    "Write a program which first prompts the user for an integer which will be the size of a list. Then, the program must repeatedly prompt the user to input the items of the list. Each item is to be added with the append function. The inputs continue until the number of items reach the size of the list. The final list is then printed. The syntax for making an empty list and appending function are given below:\n",
    "\n",
    "my_list = [ ]\n",
    "my_list.append(item)\n",
    "\"\"\"\n",
    "\n",
    "size = int(input(\"Enter the size of the list: \"))\n",
    "number_list = []\n",
    "count = 0\n",
    "\n",
    "while count < size:\n",
    "    item = input(\"Enter an input: \")\n",
    "    number_list.append(item)\n",
    "    count += 1\n",
    "\n",
    "print(number_list)"
   ]
  },
  {
   "cell_type": "markdown",
   "metadata": {},
   "source": [
    "### Lab Task 3"
   ]
  },
  {
   "cell_type": "code",
   "execution_count": 3,
   "metadata": {},
   "outputs": [
    {
     "name": "stdout",
     "output_type": "stream",
     "text": [
      "Enter a word:  racecar\n"
     ]
    },
    {
     "name": "stdout",
     "output_type": "stream",
     "text": [
      "Input 'racecar' is a palindrome.\n"
     ]
    }
   ],
   "source": [
    "\"\"\"\n",
    "Write a function that takes in a list input and returns true if the items of the list make a palindrome. A palindrome is a word/number that is written the same way forward and backward. Examples of palindromes include “radar”, “level”, “5445”, “8395938”, “racecar”. To use a list in a function, use the following syntax:\n",
    "\n",
    "def my_function(my_list):\n",
    "\tstatement1\n",
    "\tstatement2\n",
    "\n",
    "\"\"\"\n",
    "\n",
    "def palindrome_check(my_list):\n",
    "    if my_list == my_list[::-1]:\n",
    "        return True\n",
    "    else:\n",
    "        return False\n",
    "    \n",
    "test_word = input(\"Enter a word: \")\n",
    "if palindrome_check(list(test_word)):\n",
    "    print(f\"Input '{test_word}' is a palindrome.\")\n",
    "else:\n",
    "    print(f\"Input '{test_word}' is not a palindrome.\")"
   ]
  },
  {
   "cell_type": "markdown",
   "metadata": {},
   "source": [
    "### Lab Task 4"
   ]
  },
  {
   "cell_type": "code",
   "execution_count": 4,
   "metadata": {},
   "outputs": [
    {
     "name": "stdout",
     "output_type": "stream",
     "text": [
      "Enter an input:  4\n"
     ]
    },
    {
     "name": "stdout",
     "output_type": "stream",
     "text": [
      "[4]\n"
     ]
    },
    {
     "name": "stdout",
     "output_type": "stream",
     "text": [
      "Enter an input:  9\n"
     ]
    },
    {
     "name": "stdout",
     "output_type": "stream",
     "text": [
      "[4, 9]\n"
     ]
    },
    {
     "name": "stdout",
     "output_type": "stream",
     "text": [
      "Enter an input:  8\n"
     ]
    },
    {
     "name": "stdout",
     "output_type": "stream",
     "text": [
      "[4, 8, 9]\n"
     ]
    },
    {
     "name": "stdout",
     "output_type": "stream",
     "text": [
      "Enter an input:  6\n"
     ]
    },
    {
     "name": "stdout",
     "output_type": "stream",
     "text": [
      "[4, 6, 8, 9]\n"
     ]
    },
    {
     "name": "stdout",
     "output_type": "stream",
     "text": [
      "Enter an input:  done\n"
     ]
    }
   ],
   "source": [
    "\"\"\"\n",
    "Write a program that repeatedly prompts the user for input. The user will keep entering numbers which are added to a list. Each time a number is added to the list, it must be placed in such a way that the list items are always in ascending order. Each time a number is input, the list is to be printed showing the newly added number. This continues until the word “done” is input at which point the prompts will stop. The final list is then displayed. Do NOT use any inbuilt sorting function for this task.\n",
    "\"\"\"\n",
    "\n",
    "number_list = []\n",
    "\n",
    "while True:\n",
    "    number = input(\"Enter an input: \")\n",
    "    if number == \"done\":\n",
    "        break\n",
    "    else:\n",
    "        number = int(number)\n",
    "        for index, item in enumerate(number_list):\n",
    "            if number < item:\n",
    "                number_list.insert(index, number)\n",
    "                break\n",
    "        else:\n",
    "            number_list.append(number)\n",
    "        print(number_list)"
   ]
  },
  {
   "cell_type": "markdown",
   "metadata": {},
   "source": [
    "### Lab Task 5"
   ]
  },
  {
   "cell_type": "code",
   "execution_count": 5,
   "metadata": {
    "tags": []
   },
   "outputs": [
    {
     "name": "stdout",
     "output_type": "stream",
     "text": [
      "Original list: [5, 11, 8, 6, 7, 2]\n",
      "\n",
      "List after pass:  [2, 11, 8, 6, 7, 5]\n",
      "List after pass:  [2, 5, 8, 6, 7, 11]\n",
      "List after pass:  [2, 5, 6, 8, 7, 11]\n",
      "List after pass:  [2, 5, 6, 7, 8, 11]\n",
      "List after pass:  [2, 5, 6, 7, 8, 11]\n",
      "List after pass:  [2, 5, 6, 7, 8, 11]\n"
     ]
    }
   ],
   "source": [
    "\"\"\"\n",
    "In this task, you will implement the Selection Sort algorithm using lists. A selection sort searches a list looking for the smallest element. Then, the smallest element is swapped with the first element of the list. The process is repeated for the sub-list beginning with the second element of the list. Each pass of the list results in one element being placed in its proper location. When the sub-list being processed contains one element, the list is sorted. Create a function which takes a list as input and then implements the selection sort on it. You need to print the list each time a swap is made.\n",
    "\"\"\"\n",
    "\n",
    "my_list = [5, 11, 8, 6, 7, 2]\n",
    "print(f\"Original list: {my_list}\\n\")\n",
    "\n",
    "for i in range(len(my_list)):\n",
    "    smallest_index = i\n",
    "    for j in range(i+1, len(my_list)):\n",
    "        if my_list[j] < my_list[smallest_index]:\n",
    "            smallest_index = j\n",
    "    my_list[smallest_index], my_list[i] = my_list[i], my_list[smallest_index]\n",
    "    print(\"List after pass: \", my_list)"
   ]
  },
  {
   "cell_type": "markdown",
   "metadata": {},
   "source": [
    "### Lab Task 6"
   ]
  },
  {
   "cell_type": "code",
   "execution_count": 8,
   "metadata": {
    "tags": []
   },
   "outputs": [
    {
     "name": "stdout",
     "output_type": "stream",
     "text": [
      "Sum of Matrices: \n",
      " [[12  9 17]\n",
      " [12 14 13]\n",
      " [17 15 11]]\n",
      "\n",
      "Difference of Matrices: \n",
      " [[ 6 -7  1]\n",
      " [-6  2  1]\n",
      " [ 1  1 -5]]\n",
      "\n",
      "Element-wise Product of Matrices: \n",
      " [[27  8 72]\n",
      " [27 48 42]\n",
      " [72 56 24]]\n",
      "\n",
      "Element-wise Division of Matrices: \n",
      " [[3.         0.125      1.125     ]\n",
      " [0.33333333 1.33333333 1.16666667]\n",
      " [1.125      1.14285714 0.375     ]]\n",
      "\n",
      "Matrix Multiplication of Matrices: \n",
      " [[108 141 150]\n",
      " [137 121 128]\n",
      " [123 141 144]]\n"
     ]
    }
   ],
   "source": [
    "\"\"\"\n",
    "Use the np.array function to define two matrices of size 3x3. Place numerical elements of your choice in the matrices. Write code to perform the following:\n",
    "•\tPrint the arrays\n",
    "•\tCompute the sum of the matrices\n",
    "•\tCompute the difference of the matrices\n",
    "•\tCompute the element-wise product of the matrices\n",
    "•\tCompute the element-wise division of the matrices\n",
    "•\tCompute the matrix multiplication of the matrices\n",
    "\"\"\"\n",
    "\n",
    "import numpy as np\n",
    "\n",
    "arr_1 = np.random.randint(1, 10, (3, 3))\n",
    "arr_2 = np.random.randint(1, 10, (3, 3))\n",
    "\n",
    "print(\"Sum of Matrices: \\n\", arr_1 + arr_2)\n",
    "print(\"\\nDifference of Matrices: \\n\", arr_1 - arr_2)\n",
    "print(\"\\nElement-wise Product of Matrices: \\n\", arr_1 * arr_2)\n",
    "print(\"\\nElement-wise Division of Matrices: \\n\", arr_1 / arr_2)\n",
    "print(\"\\nMatrix Multiplication of Matrices: \\n\", arr_1 @ arr_2)"
   ]
  }
 ],
 "metadata": {
  "kernelspec": {
   "display_name": "Python 3 (ipykernel)",
   "language": "python",
   "name": "python3"
  },
  "language_info": {
   "codemirror_mode": {
    "name": "ipython",
    "version": 3
   },
   "file_extension": ".py",
   "mimetype": "text/x-python",
   "name": "python",
   "nbconvert_exporter": "python",
   "pygments_lexer": "ipython3",
   "version": "3.10.12"
  }
 },
 "nbformat": 4,
 "nbformat_minor": 4
}
