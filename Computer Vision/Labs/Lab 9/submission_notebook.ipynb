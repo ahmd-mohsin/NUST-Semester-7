{
 "cells": [
  {
   "cell_type": "code",
   "execution_count": 1,
   "metadata": {},
   "outputs": [],
   "source": [
    "import numpy as np\n",
    "import matplotlib.pyplot as plt\n",
    "import torch\n",
    "import torchvision\n",
    "from torchvision.transforms import ToTensor, Normalize, Compose\n",
    "from torch.utils.data import DataLoader\n",
    "import torch.nn as nn\n",
    "from tqdm import tqdm\n",
    "from colorama import Fore, Style\n",
    "\n",
    "# Use STIX font for matplotlib\n",
    "plt.rcParams[\"font.family\"] = \"STIXGeneral\""
   ]
  },
  {
   "cell_type": "markdown",
   "metadata": {},
   "source": [
    "### Lab Task 1"
   ]
  },
  {
   "cell_type": "code",
   "execution_count": 3,
   "metadata": {},
   "outputs": [
    {
     "data": {
      "text/plain": [
       "<torch._C.Generator at 0x28eff4f75d0>"
      ]
     },
     "execution_count": 3,
     "metadata": {},
     "output_type": "execute_result"
    }
   ],
   "source": [
    "epochs = 3\n",
    "batch_size = 128\n",
    "lr = 0.001\n",
    "log_interval = 100\n",
    "\n",
    "random_seed = 42\n",
    "torch.manual_seed(random_seed)"
   ]
  },
  {
   "cell_type": "code",
   "execution_count": 3,
   "metadata": {},
   "outputs": [],
   "source": [
    "\"\"\"\n",
    "Build a simple convolutional neural network in PyTorch and train it to recognize handwritten digits using the MNIST dataset.\n",
    "\"\"\"\n",
    "\n",
    "# Load the MNIST dataset\n",
    "train_loader = DataLoader(\n",
    "    torchvision.datasets.MNIST(\n",
    "        \"./\",\n",
    "        train=True,\n",
    "        download=True,\n",
    "        transform=Compose([ToTensor(), Normalize((0.1307,), (0.3081,))]),\n",
    "    ),\n",
    "    batch_size=batch_size,\n",
    "    shuffle=True,\n",
    ")\n",
    "\n",
    "test_loader = DataLoader(\n",
    "    torchvision.datasets.MNIST(\n",
    "        \"./\",\n",
    "        train=False,\n",
    "        download=True,\n",
    "        transform=Compose([ToTensor(), Normalize((0.1307,), (0.3081,))]),\n",
    "    ),\n",
    "    batch_size=1000,\n",
    "    shuffle=True,\n",
    ")"
   ]
  },
  {
   "cell_type": "code",
   "execution_count": 4,
   "metadata": {},
   "outputs": [
    {
     "data": {
      "image/png": "[encoded data removed]",
      "text/plain": [
       "<Figure size 640x480 with 6 Axes>"
      ]
     },
     "metadata": {},
     "output_type": "display_data"
    }
   ],
   "source": [
    "# Visualize the dataset\n",
    "examples = enumerate(test_loader)\n",
    "batch_idx, (example_data, example_targets) = next(examples)\n",
    "\n",
    "fig = plt.figure()\n",
    "for i in range(6):\n",
    "    plt.subplot(2, 3, i + 1)\n",
    "    plt.tight_layout()\n",
    "    plt.imshow(example_data[i][0], cmap=\"gray\", interpolation=\"none\")\n",
    "    plt.title(\"Ground Truth: {}\".format(example_targets[i]))\n",
    "    plt.xticks([])\n",
    "    plt.yticks([])"
   ]
  },
  {
   "cell_type": "code",
   "execution_count": 5,
   "metadata": {},
   "outputs": [],
   "source": [
    "# Define the model\n",
    "class CNN(nn.Module):\n",
    "    def __init__(self):\n",
    "        super(CNN, self).__init__()\n",
    "        self.conv1 = nn.Conv2d(in_channels=1, out_channels=32, kernel_size=3)\n",
    "        self.conv2 = nn.Conv2d(in_channels=32, out_channels=64, kernel_size=3)\n",
    "        self.conv2_drop = nn.Dropout2d()\n",
    "        self.fc1 = nn.Linear(in_features=1600, out_features=128)\n",
    "        self.fc2 = nn.Linear(in_features=128, out_features=10)\n",
    "        self.relu = nn.ReLU()\n",
    "        self.max_pool = nn.MaxPool2d(kernel_size=2)\n",
    "\n",
    "    def forward(self, x):\n",
    "        x = self.relu(self.max_pool(self.conv1(x)))\n",
    "        x = self.relu(self.max_pool(self.conv2_drop(self.conv2(x))))\n",
    "        x = x.view(-1, 1600)\n",
    "        x = self.relu(self.fc1(x))\n",
    "        x = self.fc2(x)\n",
    "        \n",
    "        return x\n",
    "\n",
    "# Define the loss function and optimizer\n",
    "model = CNN()\n",
    "\n",
    "criterion = nn.CrossEntropyLoss()\n",
    "optimizer = torch.optim.Adam(model.parameters(), lr=lr)"
   ]
  },
  {
   "cell_type": "code",
   "execution_count": 6,
   "metadata": {},
   "outputs": [
    {
     "name": "stdout",
     "output_type": "stream",
     "text": [
      "\u001b[36mEpoch: 1/3\u001b[0m\n",
      ">> Batch: 1/469\tLoss: 2.318476\n",
      ">> Batch: 101/469\tLoss: 0.373859\n",
      ">> Batch: 201/469\tLoss: 0.070763\n",
      ">> Batch: 301/469\tLoss: 0.114071\n",
      ">> Batch: 401/469\tLoss: 0.068629\n",
      ">> Batch: 469/469\tLoss: 0.098170\n",
      "\n",
      "\u001b[36mEpoch: 2/3\u001b[0m\n",
      ">> Batch: 1/469\tLoss: 0.117929\n",
      ">> Batch: 101/469\tLoss: 0.048045\n",
      ">> Batch: 201/469\tLoss: 0.137170\n",
      ">> Batch: 301/469\tLoss: 0.107700\n",
      ">> Batch: 401/469\tLoss: 0.022837\n",
      ">> Batch: 469/469\tLoss: 0.019670\n",
      "\n",
      "\u001b[36mEpoch: 3/3\u001b[0m\n",
      ">> Batch: 1/469\tLoss: 0.101240\n",
      ">> Batch: 101/469\tLoss: 0.034699\n",
      ">> Batch: 201/469\tLoss: 0.034792\n",
      ">> Batch: 301/469\tLoss: 0.083300\n",
      ">> Batch: 401/469\tLoss: 0.132616\n",
      ">> Batch: 469/469\tLoss: 0.025354\n",
      "\n",
      "\u001b[32mTest Loss: 0.029462\u001b[0m\n",
      "\u001b[32mTest Accuracy: 99.01%\u001b[0m\n"
     ]
    }
   ],
   "source": [
    "# train the model and evaluate it on the test set\n",
    "for i in range(epochs):\n",
    "    print(f\"{Fore.CYAN}Epoch: {i + 1}/{epochs}{Style.RESET_ALL}\")\n",
    "\n",
    "    for batch_idx, (data, targets) in enumerate(train_loader):\n",
    "        optimizer.zero_grad()\n",
    "        scores = model(data)\n",
    "        loss = criterion(scores, targets)\n",
    "        loss.backward()\n",
    "        optimizer.step()\n",
    "\n",
    "        if batch_idx % log_interval == 0 or batch_idx == len(train_loader) - 1:\n",
    "            print(\n",
    "                f\">> Batch: {batch_idx + 1}/{len(train_loader)}\\tLoss: {loss.item():.6f}\"\n",
    "            )\n",
    "            if batch_idx == len(train_loader) - 1:\n",
    "                print()\n",
    "\n",
    "# Evaluate the model\n",
    "model.eval()\n",
    "\n",
    "test_loss = 0\n",
    "correct = 0\n",
    "total = 0\n",
    "\n",
    "with torch.no_grad():\n",
    "    for data, targets in test_loader:\n",
    "        scores = model(data)\n",
    "        loss = criterion(scores, targets)\n",
    "        test_loss += loss.item()\n",
    "        _, predicted = scores.max(1)\n",
    "        total += targets.size(0)\n",
    "        correct += predicted.eq(targets).sum().item()\n",
    "        \n",
    "    print(f\"{Fore.GREEN}Test Loss: {test_loss / len(test_loader):.6f}{Style.RESET_ALL}\")\n",
    "    print(f\"{Fore.GREEN}Test Accuracy: {correct / total * 100:.2f}%{Style.RESET_ALL}\")"
   ]
  },
  {
   "cell_type": "code",
   "execution_count": 7,
   "metadata": {},
   "outputs": [
    {
     "data": {
      "image/png": "[encoded data removed]",
      "text/plain": [
       "<Figure size 640x480 with 6 Axes>"
      ]
     },
     "metadata": {},
     "output_type": "display_data"
    }
   ],
   "source": [
    "# Visualize the predictions\n",
    "examples = enumerate(test_loader)\n",
    "batch_idx, (example_data, example_targets) = next(examples)\n",
    "\n",
    "with torch.no_grad():\n",
    "    scores = model(example_data)\n",
    "    _, predicted = scores.max(1)\n",
    "    \n",
    "fig = plt.figure()\n",
    "for i in range(6):\n",
    "    plt.subplot(2, 3, i + 1)\n",
    "    plt.tight_layout()\n",
    "    plt.imshow(example_data[i][0], cmap=\"gray\", interpolation=\"none\")\n",
    "    plt.title(\n",
    "        f\"Predicted: {predicted[i]}, Actual: {example_targets[i]}\"\n",
    "    )\n",
    "    plt.xticks([])\n",
    "    plt.yticks([])"
   ]
  },
  {
   "cell_type": "markdown",
   "metadata": {},
   "source": [
    "### Lab Task 2"
   ]
  },
  {
   "cell_type": "code",
   "execution_count": 2,
   "metadata": {},
   "outputs": [
    {
     "data": {
      "text/plain": [
       "<torch._C.Generator at 0x262832b9df0>"
      ]
     },
     "execution_count": 2,
     "metadata": {},
     "output_type": "execute_result"
    }
   ],
   "source": [
    "epochs = 10\n",
    "batch_size = 128\n",
    "lr = 0.001\n",
    "log_interval = 100\n",
    "\n",
    "random_seed = 42\n",
    "torch.manual_seed(random_seed)"
   ]
  },
  {
   "cell_type": "code",
   "execution_count": 3,
   "metadata": {},
   "outputs": [],
   "source": [
    "\"\"\"\n",
    "Build a simple convolutional neural network in PyTorch and train it to recognize following fashion object  using the fashion MNIST dataset. \n",
    "\n",
    "10 classes (Tshirt, Trouser, Pullover, Dress, Coat, Sandal, Shirt, Sneaker, Bag, Ankle boot)\n",
    "\"\"\"\n",
    "\n",
    "class_mapping = {\n",
    "    0: \"T-shirt/top\",\n",
    "    1: \"Trouser\",\n",
    "    2: \"Pullover\",\n",
    "    3: \"Dress\",\n",
    "    4: \"Coat\",\n",
    "    5: \"Sandal\",\n",
    "    6: \"Shirt\",\n",
    "    7: \"Sneaker\",\n",
    "    8: \"Bag\",\n",
    "    9: \"Ankle boot\",\n",
    "}\n",
    "\n",
    "# Load the MNIST dataset\n",
    "train_loader = DataLoader(\n",
    "    torchvision.datasets.FashionMNIST(\n",
    "        \"./\",\n",
    "        train=True,\n",
    "        download=True,\n",
    "        transform=Compose([ToTensor(), Normalize((0.1307,), (0.3081,))]),\n",
    "    ),\n",
    "    batch_size=batch_size,\n",
    "    shuffle=True,\n",
    ")\n",
    "\n",
    "test_loader = DataLoader(\n",
    "    torchvision.datasets.FashionMNIST(\n",
    "        \"./\",\n",
    "        train=False,\n",
    "        download=True,\n",
    "        transform=Compose([ToTensor(), Normalize((0.1307,), (0.3081,))]),\n",
    "    ),\n",
    "    batch_size=1000,\n",
    "    shuffle=True,\n",
    ")"
   ]
  },
  {
   "cell_type": "code",
   "execution_count": 4,
   "metadata": {},
   "outputs": [
    {
     "data": {
      "image/png": "[encoded data removed]",
      "text/plain": [
       "<Figure size 640x480 with 6 Axes>"
      ]
     },
     "metadata": {},
     "output_type": "display_data"
    }
   ],
   "source": [
    "# Visualize the dataset\n",
    "examples = enumerate(test_loader)\n",
    "batch_idx, (example_data, example_targets) = next(examples)\n",
    "\n",
    "fig = plt.figure()\n",
    "for i in range(6):\n",
    "    plt.subplot(2, 3, i + 1)\n",
    "    plt.tight_layout()\n",
    "    plt.imshow(example_data[i][0], cmap=\"gray\", interpolation=\"none\")\n",
    "    plt.title(\"Ground Truth: {}\".format(class_mapping[int(example_targets[i])]))\n",
    "    plt.xticks([])\n",
    "    plt.yticks([])"
   ]
  },
  {
   "cell_type": "code",
   "execution_count": 5,
   "metadata": {},
   "outputs": [],
   "source": [
    "# Define the model\n",
    "class CNN(nn.Module):\n",
    "    def __init__(self):\n",
    "        super(CNN, self).__init__()\n",
    "        self.conv1 = nn.Conv2d(in_channels=1, out_channels=32, kernel_size=3)\n",
    "        self.conv2 = nn.Conv2d(in_channels=32, out_channels=64, kernel_size=3)\n",
    "        self.conv2_drop = nn.Dropout2d()\n",
    "        self.fc1 = nn.Linear(in_features=1600, out_features=128)\n",
    "        self.fc2 = nn.Linear(in_features=128, out_features=10)\n",
    "        self.relu = nn.ReLU()\n",
    "        self.max_pool = nn.MaxPool2d(kernel_size=2)\n",
    "\n",
    "    def forward(self, x):\n",
    "        x = self.relu(self.max_pool(self.conv1(x)))\n",
    "        x = self.relu(self.max_pool(self.conv2_drop(self.conv2(x))))\n",
    "        x = x.view(-1, 1600)\n",
    "        x = self.relu(self.fc1(x))\n",
    "        x = self.fc2(x)\n",
    "        \n",
    "        return x\n",
    "\n",
    "# Define the loss function and optimizer\n",
    "model = CNN()\n",
    "\n",
    "criterion = nn.CrossEntropyLoss()\n",
    "optimizer = torch.optim.Adam(model.parameters(), lr=lr)"
   ]
  },
  {
   "cell_type": "code",
   "execution_count": 6,
   "metadata": {},
   "outputs": [
    {
     "name": "stdout",
     "output_type": "stream",
     "text": [
      "\u001b[36mEpoch: 1/10\u001b[0m\n",
      ">> Batch: 1/469\tLoss: 2.296879\n",
      ">> Batch: 101/469\tLoss: 0.618329\n",
      ">> Batch: 201/469\tLoss: 0.483726\n",
      ">> Batch: 301/469\tLoss: 0.525971\n",
      ">> Batch: 401/469\tLoss: 0.339045\n",
      ">> Batch: 469/469\tLoss: 0.389650\n",
      "\n",
      "\u001b[36mEpoch: 2/10\u001b[0m\n",
      ">> Batch: 1/469\tLoss: 0.394437\n",
      ">> Batch: 101/469\tLoss: 0.254581\n",
      ">> Batch: 201/469\tLoss: 0.283461\n",
      ">> Batch: 301/469\tLoss: 0.396587\n",
      ">> Batch: 401/469\tLoss: 0.388165\n",
      ">> Batch: 469/469\tLoss: 0.470048\n",
      "\n",
      "\u001b[36mEpoch: 3/10\u001b[0m\n",
      ">> Batch: 1/469\tLoss: 0.363270\n",
      ">> Batch: 101/469\tLoss: 0.299441\n",
      ">> Batch: 201/469\tLoss: 0.240793\n",
      ">> Batch: 301/469\tLoss: 0.262007\n",
      ">> Batch: 401/469\tLoss: 0.337585\n",
      ">> Batch: 469/469\tLoss: 0.447462\n",
      "\n",
      "\u001b[36mEpoch: 4/10\u001b[0m\n",
      ">> Batch: 1/469\tLoss: 0.349448\n",
      ">> Batch: 101/469\tLoss: 0.226724\n",
      ">> Batch: 201/469\tLoss: 0.225267\n",
      ">> Batch: 301/469\tLoss: 0.269906\n",
      ">> Batch: 401/469\tLoss: 0.294687\n",
      ">> Batch: 469/469\tLoss: 0.462739\n",
      "\n",
      "\u001b[36mEpoch: 5/10\u001b[0m\n",
      ">> Batch: 1/469\tLoss: 0.252700\n",
      ">> Batch: 101/469\tLoss: 0.251120\n",
      ">> Batch: 201/469\tLoss: 0.237448\n",
      ">> Batch: 301/469\tLoss: 0.289594\n",
      ">> Batch: 401/469\tLoss: 0.215905\n",
      ">> Batch: 469/469\tLoss: 0.342381\n",
      "\n",
      "\u001b[36mEpoch: 6/10\u001b[0m\n",
      ">> Batch: 1/469\tLoss: 0.210556\n",
      ">> Batch: 101/469\tLoss: 0.291085\n",
      ">> Batch: 201/469\tLoss: 0.303298\n",
      ">> Batch: 301/469\tLoss: 0.257960\n",
      ">> Batch: 401/469\tLoss: 0.286070\n",
      ">> Batch: 469/469\tLoss: 0.317033\n",
      "\n",
      "\u001b[36mEpoch: 7/10\u001b[0m\n",
      ">> Batch: 1/469\tLoss: 0.277548\n",
      ">> Batch: 101/469\tLoss: 0.263159\n",
      ">> Batch: 201/469\tLoss: 0.345989\n",
      ">> Batch: 301/469\tLoss: 0.213319\n",
      ">> Batch: 401/469\tLoss: 0.282706\n",
      ">> Batch: 469/469\tLoss: 0.224836\n",
      "\n",
      "\u001b[36mEpoch: 8/10\u001b[0m\n",
      ">> Batch: 1/469\tLoss: 0.256292\n",
      ">> Batch: 101/469\tLoss: 0.292372\n",
      ">> Batch: 201/469\tLoss: 0.251198\n",
      ">> Batch: 301/469\tLoss: 0.172471\n",
      ">> Batch: 401/469\tLoss: 0.129889\n",
      ">> Batch: 469/469\tLoss: 0.212418\n",
      "\n",
      "\u001b[36mEpoch: 9/10\u001b[0m\n",
      ">> Batch: 1/469\tLoss: 0.307004\n",
      ">> Batch: 101/469\tLoss: 0.177878\n",
      ">> Batch: 201/469\tLoss: 0.282539\n",
      ">> Batch: 301/469\tLoss: 0.175578\n",
      ">> Batch: 401/469\tLoss: 0.228760\n",
      ">> Batch: 469/469\tLoss: 0.210291\n",
      "\n",
      "\u001b[36mEpoch: 10/10\u001b[0m\n",
      ">> Batch: 1/469\tLoss: 0.190711\n",
      ">> Batch: 101/469\tLoss: 0.253545\n",
      ">> Batch: 201/469\tLoss: 0.192710\n",
      ">> Batch: 301/469\tLoss: 0.154193\n",
      ">> Batch: 401/469\tLoss: 0.263272\n",
      ">> Batch: 469/469\tLoss: 0.263453\n",
      "\n",
      "\u001b[32mTest Loss: 0.249661\u001b[0m\n",
      "\u001b[32mTest Accuracy: 90.88%\u001b[0m\n"
     ]
    }
   ],
   "source": [
    "# train the model and evaluate it on the test set\n",
    "for i in range(epochs):\n",
    "    print(f\"{Fore.CYAN}Epoch: {i + 1}/{epochs}{Style.RESET_ALL}\")\n",
    "\n",
    "    for batch_idx, (data, targets) in enumerate(train_loader):\n",
    "        optimizer.zero_grad()\n",
    "        scores = model(data)\n",
    "        loss = criterion(scores, targets)\n",
    "        loss.backward()\n",
    "        optimizer.step()\n",
    "\n",
    "        if batch_idx % log_interval == 0 or batch_idx == len(train_loader) - 1:\n",
    "            print(\n",
    "                f\">> Batch: {batch_idx + 1}/{len(train_loader)}\\tLoss: {loss.item():.6f}\"\n",
    "            )\n",
    "            if batch_idx == len(train_loader) - 1:\n",
    "                print()\n",
    "\n",
    "# Evaluate the model\n",
    "model.eval()\n",
    "\n",
    "test_loss = 0\n",
    "correct = 0\n",
    "total = 0\n",
    "\n",
    "with torch.no_grad():\n",
    "    for data, targets in test_loader:\n",
    "        scores = model(data)\n",
    "        loss = criterion(scores, targets)\n",
    "        test_loss += loss.item()\n",
    "        _, predicted = scores.max(1)\n",
    "        total += targets.size(0)\n",
    "        correct += predicted.eq(targets).sum().item()\n",
    "        \n",
    "    print(f\"{Fore.GREEN}Test Loss: {test_loss / len(test_loader):.6f}{Style.RESET_ALL}\")\n",
    "    print(f\"{Fore.GREEN}Test Accuracy: {correct / total * 100:.2f}%{Style.RESET_ALL}\")"
   ]
  },
  {
   "cell_type": "code",
   "execution_count": 22,
   "metadata": {},
   "outputs": [
    {
     "data": {
      "image/png": "[encoded data removed]",
      "text/plain": [
       "<Figure size 640x480 with 4 Axes>"
      ]
     },
     "metadata": {},
     "output_type": "display_data"
    }
   ],
   "source": [
    "# Visualize the predictions\n",
    "examples = enumerate(test_loader)\n",
    "batch_idx, (example_data, example_targets) = next(examples)\n",
    "\n",
    "with torch.no_grad():\n",
    "    scores = model(example_data)\n",
    "    _, predicted = scores.max(1)\n",
    "\n",
    "fig = plt.figure()\n",
    "for i in range(4):\n",
    "    plt.subplot(2, 2, i + 1)\n",
    "    plt.tight_layout()\n",
    "    plt.imshow(example_data[i][0], cmap=\"gray\", interpolation=\"none\")\n",
    "    plt.title(\n",
    "        f\"Predicted: {class_mapping[int(predicted[i])]}, \\\n",
    "        Actual: {class_mapping[int(example_targets[i])]}\"\n",
    "    )\n",
    "    plt.xticks([])\n",
    "    plt.yticks([])"
   ]
  }
 ],
 "metadata": {
  "kernelspec": {
   "display_name": "Python 3 (ipykernel)",
   "language": "python",
   "name": "python3"
  },
  "language_info": {
   "codemirror_mode": {
    "name": "ipython",
    "version": 3
   },
   "file_extension": ".py",
   "mimetype": "text/x-python",
   "name": "python",
   "nbconvert_exporter": "python",
   "pygments_lexer": "ipython3",
   "version": "3.10.12"
  }
 },
 "nbformat": 4,
 "nbformat_minor": 4
}
