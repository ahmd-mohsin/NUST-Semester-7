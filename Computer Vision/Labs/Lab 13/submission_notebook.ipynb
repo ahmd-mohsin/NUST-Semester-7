{
 "cells": [
  {
   "cell_type": "code",
   "execution_count": null,
   "metadata": {},
   "outputs": [],
   "source": [
    "import os\n",
    "import matplotlib.pyplot as plt\n",
    "import pandas as pd\n",
    "import numpy as np\n",
    "import seaborn as sns\n",
    "from sklearn import preprocessing\n",
    "import scipy.cluster.hierarchy as sch\n",
    "from sklearn.cluster import AgglomerativeClustering\n",
    "import math\n",
    "\n",
    "path_data = os.path.join(\".\", \"customers.csv\")\n",
    "\n",
    "import builtins\n",
    "\n",
    "\n",
    "def print(*args, **kwargs):\n",
    "    kwargs[\"sep\"] = \"\"\n",
    "    return builtins.print(*args, **kwargs)\n",
    "\n",
    "\n",
    "plt.rcParams[\"figure.figsize\"] = (6, 4)\n",
    "plt.rcParams[\"font.family\"] = \"STIXGeneral\""
   ]
  },
  {
   "cell_type": "markdown",
   "metadata": {},
   "source": [
    "### Lab Task"
   ]
  },
  {
   "cell_type": "code",
   "execution_count": null,
   "metadata": {},
   "outputs": [],
   "source": [
    "\"\"\"\n",
    "Download your own CSV dataset from the internet e.g heatmap. Perform Hierarchical clustering of your dataset and showcase the plots.\n",
    "\"\"\"\n",
    "\n",
    "# Importing the dataset\n",
    "df = pd.read_csv(path_data)\n",
    "df.head()"
   ]
  },
  {
   "cell_type": "code",
   "execution_count": null,
   "metadata": {},
   "outputs": [],
   "source": [
    "le = preprocessing.LabelEncoder()\n",
    "df[\"Gender\"] = le.fit_transform(df[\"Gender\"])\n",
    "df.head()"
   ]
  },
  {
   "cell_type": "code",
   "execution_count": null,
   "metadata": {},
   "outputs": [],
   "source": [
    "plt.figure(1, figsize=(10, 6))\n",
    "plt.title(\"Heatmap of the dataset\")\n",
    "sns.heatmap(df)\n",
    "plt.show()"
   ]
  },
  {
   "cell_type": "code",
   "execution_count": null,
   "metadata": {},
   "outputs": [],
   "source": [
    "plt.figure(figsize=(8, 6))\n",
    "plt.title(\"Dendrograms\")\n",
    "dend = sch.dendrogram(sch.linkage(df, method=\"ward\"))"
   ]
  },
  {
   "cell_type": "markdown",
   "metadata": {},
   "source": [
    "### Agglomerative Clustering"
   ]
  },
  {
   "cell_type": "code",
   "execution_count": null,
   "metadata": {},
   "outputs": [],
   "source": [
    "def compute_distance(point1, point2):\n",
    "    return math.sqrt(sum([(p1 - p2) ** 2 for p1, p2 in zip(point1, point2)]))\n",
    "\n",
    "\n",
    "def min_link(cluster1, cluster2):\n",
    "    return min([compute_distance(v1, v2) for v1 in cluster1 for v2 in cluster2])\n",
    "\n",
    "\n",
    "def max_link(cluster1, cluster2):\n",
    "    return max([compute_distance(v1, v2) for v1 in cluster1 for v2 in cluster2])\n",
    "\n",
    "\n",
    "def avg_link(cluster1, cluster2):\n",
    "    distances = [compute_distance(v1, v2) for v1 in cluster1 for v2 in cluster2]\n",
    "    return sum(distances) / len(distances)\n",
    "\n",
    "\n",
    "def select_distance_metric(metric):\n",
    "    metrics = {0: min_link, 1: max_link, 2: avg_link}\n",
    "    return metrics.get(metric, avg_link)\n",
    "\n",
    "\n",
    "class HierarchicalClustering:\n",
    "    def __init__(self, dataset, num_clusters, metric):\n",
    "        self.dataset = dataset\n",
    "        self.num_data_points = len(dataset)\n",
    "        self.num_clusters = num_clusters\n",
    "        self.distance_metric = select_distance_metric(metric)\n",
    "        self.clusters = self.initialize_clusters()\n",
    "        self.cluster_id_counter = len(self.dataset)\n",
    "\n",
    "    def combine_clusters(self, cluster_i_id, cluster_j_id):\n",
    "        combined_clusters = {\n",
    "            self.cluster_id_counter: self.clusters[cluster_i_id]\n",
    "            + self.clusters[cluster_j_id]\n",
    "        }\n",
    "        self.cluster_id_counter += 1\n",
    "\n",
    "        for cluster_id in self.clusters.keys():\n",
    "            if (cluster_id == cluster_i_id) or (cluster_id == cluster_j_id):\n",
    "                continue\n",
    "            combined_clusters[cluster_id] = self.clusters[cluster_id]\n",
    "        return combined_clusters\n",
    "\n",
    "    def display_clusters(self):\n",
    "        clusters_str = \"\"\n",
    "        for id, points in self.clusters.items():\n",
    "            clusters_str += f\"Cluster: {id}\\n\"\n",
    "            for point in points:\n",
    "                clusters_str += f\"    {point}\\n\"\n",
    "        return clusters_str\n",
    "\n",
    "    def initialize_clusters(self):\n",
    "        return {\n",
    "            data_index: [data_point]\n",
    "            for data_index, data_point in enumerate(self.dataset)\n",
    "        }\n",
    "\n",
    "    def identify_nearest_clusters(self):\n",
    "        min_distance = math.inf\n",
    "        nearest_clusters = None\n",
    "\n",
    "        cluster_ids = list(self.clusters.keys())\n",
    "\n",
    "        for i, cluster_i in enumerate(cluster_ids[:-1]):\n",
    "            for j, cluster_j in enumerate(cluster_ids[i + 1 :]):\n",
    "                distance = self.distance_metric(\n",
    "                    self.clusters[cluster_i], self.clusters[cluster_j]\n",
    "                )\n",
    "                if distance < min_distance:\n",
    "                    min_distance, nearest_clusters = distance, (cluster_i, cluster_j)\n",
    "        return nearest_clusters\n",
    "\n",
    "    def execute_clustering(self):\n",
    "        while len(self.clusters.keys()) > self.num_clusters:\n",
    "            nearest_clusters = self.identify_nearest_clusters()\n",
    "            self.clusters = self.combine_clusters(*nearest_clusters)\n",
    "\n",
    "\n",
    "N = len(df)\n",
    "X = df.iloc[:, [3, 4]].values\n",
    "hc = HierarchicalClustering(X, 5, 2)\n",
    "hc.execute_clustering()\n",
    "\n",
    "y_hc = hc.clusters\n",
    "\n",
    "# fmt: off\n",
    "# Visualising the clusters\n",
    "colors = [\"red\", \"blue\", \"green\", \"purple\", \"orange\"]\n",
    "for i, cluster_id in enumerate(hc.clusters.keys()):\n",
    "    plt.scatter(X[np.array(hc.clusters[cluster_id]), 0],\n",
    "                X[np.array(hc.clusters[cluster_id]), 1],\n",
    "                c=colors[i % len(colors)])\n",
    "plt.title(\"Clusters of Customers (Hierarchical Clustering Model)\")\n",
    "plt.xlabel(\"Annual Income\")\n",
    "plt.ylabel(\"Spending Score\")\n",
    "plt.show()\n",
    "# fmt: on"
   ]
  }
 ],
 "metadata": {
  "kernelspec": {
   "display_name": "Python 3 (ipykernel)",
   "language": "python",
   "name": "python3"
  },
  "language_info": {
   "codemirror_mode": {
    "name": "ipython",
    "version": 3
   },
   "file_extension": ".py",
   "mimetype": "text/x-python",
   "name": "python",
   "nbconvert_exporter": "python",
   "pygments_lexer": "ipython3",
   "version": "3.10.12"
  }
 },
 "nbformat": 4,
 "nbformat_minor": 4
}
