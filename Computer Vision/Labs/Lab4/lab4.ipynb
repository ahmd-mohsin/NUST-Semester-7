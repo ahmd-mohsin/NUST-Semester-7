{
 "cells": [
  {
   "cell_type": "code",
   "execution_count": 1,
   "metadata": {},
   "outputs": [],
   "source": [
    "import cv2\n",
    "import numpy as np"
   ]
  },
  {
   "cell_type": "code",
   "execution_count": 4,
   "metadata": {},
   "outputs": [],
   "source": [
    "image = cv2.imread(\"lab4_house.jpg\")\n",
    "\n",
    "# Apply Canny edge detection on the original imag\n",
    "edges_original = cv2.Canny(image, 100, 200)\n",
    "\n",
    "# Apply Gaussian blur to the image\n",
    "blurred_image = cv2.GaussianBlur(image, (13, 13), 0)\n",
    "\n",
    "# Apply Canny edge detection on the slightly blurred image\n",
    "edges_blurred = cv2.Canny(blurred_image, 100, 200)\n",
    "\n",
    "\n",
    "cv2.imshow(\"Original Image\", image)\n",
    "cv2.imshow(\"Edges on Original Image\", edges_original)\n",
    "cv2.imshow(\"Blurred Image\", blurred_image)\n",
    "cv2.imshow(\"Edges on Blurred Image\", edges_blurred)\n",
    "\n",
    "# Wait for a key press and then close the windows\n",
    "cv2.waitKey(0)\n",
    "cv2.destroyAllWindows()"
   ]
  },
  {
   "cell_type": "markdown",
   "metadata": {},
   "source": [
    "TASK 2"
   ]
  },
  {
   "cell_type": "code",
   "execution_count": 5,
   "metadata": {},
   "outputs": [],
   "source": [
    "# Load the 'square1' and 'square2' images\n",
    "square1 = cv2.imread(\"lab4_square1.jpg\", cv2.IMREAD_GRAYSCALE)\n",
    "square2 = cv2.imread(\"lab4_square2.jpg\", cv2.IMREAD_GRAYSCALE)\n",
    "\n",
    "# Invert the pixel values so that white pixels are 0 and black pixels are 255\n",
    "square1 = cv2.bitwise_not(square1)\n",
    "square2 = cv2.bitwise_not(square2)\n",
    "\n",
    "# Create an octagon using bitwise AND operation\n",
    "octagon = cv2.bitwise_and(square1, square2)\n",
    "\n",
    "# Create an 8-pointed star using bitwise OR operation\n",
    "eight_pointed_star = cv2.bitwise_or(square1, square2)\n",
    "\n",
    "# Display the resulting images\n",
    "cv2.imshow(\"Octagon\", octagon)\n",
    "cv2.imshow(\"8-Pointed Star\", eight_pointed_star)\n",
    "# Wait for a key press and then close the windows\n",
    "cv2.waitKey(0)\n",
    "cv2.destroyAllWindows()"
   ]
  },
  {
   "cell_type": "markdown",
   "metadata": {},
   "source": [
    "TASK 3"
   ]
  },
  {
   "cell_type": "code",
   "execution_count": 7,
   "metadata": {},
   "outputs": [],
   "source": [
    "image = cv2.imread(\"lab4_shapes.bmp\")\n",
    "hsv = cv2.cvtColor(image, cv2.COLOR_BGR2HSV)\n",
    "\n",
    "# Define HSV threshold values for each shape based on color\n",
    "# You need to manually determine these values by examining the image\n",
    "# Example:\n",
    "# For a red shape, you might set: hmin, smin, vmin, hmax, smax, vmax\n",
    "# For other shapes, repeat the process\n",
    "h_min, s_min, v_min = 0, 0, 0\n",
    "h_max, s_max, v_max = 179, 255, 255\n",
    "\n",
    "# Create masks for each shape using the inRange function\n",
    "mask = cv2.inRange(hsv, (h_min, s_min, v_min), (h_max, s_max, v_max))\n",
    "\n",
    "# Display each mask in a separate window\n",
    "cv2.imshow(\"Original Image\", image)\n",
    "cv2.imshow(\"Mask for Shape\", mask)\n",
    "\n",
    "# Wait for a key press and then close the windows\n",
    "cv2.waitKey(0)\n",
    "cv2.destroyAllWindows()\n",
    "\n",
    "# Save a screenshot of the results\n",
    "#screenshot = cv2.imwrite(\"result_screenshot.png\", image)\n",
    "\n",
    "#if screenshot:\n",
    "#    print(\"Screenshot saved successfully.\")\n",
    "#else:\n",
    "#    print(\"Failed to save screenshot.\")"
   ]
  },
  {
   "cell_type": "markdown",
   "metadata": {},
   "source": [
    "TASK 4"
   ]
  },
  {
   "cell_type": "code",
   "execution_count": 9,
   "metadata": {},
   "outputs": [],
   "source": [
    "# Load the 'shapes.jpg' image\n",
    "image = cv2.imread('lab4_shapes.bmp')\n",
    "gray = cv2.cvtColor(image, cv2.COLOR_BGR2GRAY)\n",
    "\n",
    "# Find contours in the grayscale image\n",
    "contours, _ = cv2.findContours(gray, cv2.RETR_EXTERNAL, cv2.CHAIN_APPROX_SIMPLE)\n",
    "\n",
    "# Iterate through each contour\n",
    "for contour in contours:\n",
    "    # Calculate the moments of the contour\n",
    "    M = cv2.moments(contour)\n",
    "    if M['m00'] > 0:\n",
    "        # Calculate the centroid of the contour\n",
    "        cx = int(M['m10'] / M['m00'])\n",
    "        cy = int(M['m01'] / M['m00'])\n",
    "        \n",
    "        # Draw a yellow circle at the centroid\n",
    "        cv2.circle(image, (cx, cy), 5, (0, 255, 255), -1)  # Yellow color (BGR format)\n",
    "\n",
    "# Display the image with marked centroids\n",
    "cv2.imshow('Image with Centroids', image)\n",
    "\n",
    "# # Save a screenshot of the results\n",
    "# screenshot = cv2.imwrite('result_screenshot.png', image)\n",
    "\n",
    "# if screenshot:\n",
    "#     print('Screenshot saved successfully.')\n",
    "# else:\n",
    "#     print('Failed to save screenshot.')\n",
    "\n",
    "# Wait for a key press and then close the windows\n",
    "cv2.waitKey(0)\n",
    "cv2.destroyAllWindows()\n"
   ]
  },
  {
   "cell_type": "markdown",
   "metadata": {},
   "source": [
    "TASK 5"
   ]
  },
  {
   "cell_type": "code",
   "execution_count": 6,
   "metadata": {},
   "outputs": [],
   "source": [
    "# Load the 'persp.jpg' image\n",
    "image = cv2.imread('lab4_persp.jpg')\n",
    "\n",
    "# Define the four corners of the quadrilateral\n",
    "# Order: Top-left, top-right, bottom-right, bottom-left\n",
    "quadrilateral_corners = np.array([[50, 29], [551, 82], [541, 437], [176, 413]], dtype=np.float32)\n",
    "\n",
    "# Define the four outer corners for the desired rectangular output\n",
    "# Order: Top-left, top-right, bottom-right, bottom-left\n",
    "rectangular_corners = np.array([[0, 0], [300, 0], [300, 400], [0, 400]], dtype=np.float32)\n",
    "\n",
    "# Compute the perspective transformation matrix\n",
    "matrix = cv2.getPerspectiveTransform(quadrilateral_corners, rectangular_corners)\n",
    "\n",
    "# Apply the perspective transformation\n",
    "result = cv2.warpPerspective(image, matrix, (300, 400))  # Adjust the output dimensions as needed\n",
    "\n",
    "# Display the result\n",
    "cv2.imshow('Perspective Transformation', result)\n",
    "\n",
    "# Wait for a key press and then close the window\n",
    "cv2.waitKey(0)\n",
    "cv2.destroyAllWindows()\n"
   ]
  },
  {
   "cell_type": "code",
   "execution_count": 10,
   "metadata": {},
   "outputs": [
    {
     "data": {
      "text/plain": [
       "True"
      ]
     },
     "execution_count": 10,
     "metadata": {},
     "output_type": "execute_result"
    }
   ],
   "source": [
    "import cv2\n",
    "\n",
    "image = cv2.imread('lab4_persp.jpg')\n",
    "\n",
    "\n",
    "height, width = image.shape[:2]\n",
    "for y in range(height):\n",
    "    for x in range(width):\n",
    "        pixel_value = image[y, x]  # Get the pixel value (BGR color)\n",
    "        coordinates_text = f'({x}, {y})'  # Create a string with the coordinates\n",
    "        font = cv2.FONT_HERSHEY_SIMPLEX\n",
    "        font_scale = 0.5\n",
    "        font_color = (0, 0, 0)  # White color in BGR format\n",
    "        font_thickness = 1\n",
    "        text_size = cv2.getTextSize(coordinates_text, font, font_scale, font_thickness)[0]\n",
    "        \n",
    "        # Calculate the position to place the text\n",
    "        text_x = x - text_size[0] // 2\n",
    "        text_y = y + text_size[1] // 2\n",
    "        \n",
    "        # Draw the text on the image\n",
    "        cv2.putText(image, coordinates_text, (text_x, text_y), font, font_scale, font_color, font_thickness)\n",
    "\n",
    "# Display or save the image with coordinates annotated\n",
    "cv2.imshow('Image with Coordinates', image)\n",
    "cv2.waitKey(0)\n",
    "cv2.destroyAllWindows()\n",
    "\n",
    "# If you want to save the modified image:\n",
    "cv2.imwrite('output_image.jpg', image)\n"
   ]
  },
  {
   "cell_type": "code",
   "execution_count": null,
   "metadata": {},
   "outputs": [],
   "source": []
  }
 ],
 "metadata": {
  "kernelspec": {
   "display_name": "ml",
   "language": "python",
   "name": "python3"
  },
  "language_info": {
   "codemirror_mode": {
    "name": "ipython",
    "version": 3
   },
   "file_extension": ".py",
   "mimetype": "text/x-python",
   "name": "python",
   "nbconvert_exporter": "python",
   "pygments_lexer": "ipython3",
   "version": "3.10.13"
  },
  "orig_nbformat": 4
 },
 "nbformat": 4,
 "nbformat_minor": 2
}
