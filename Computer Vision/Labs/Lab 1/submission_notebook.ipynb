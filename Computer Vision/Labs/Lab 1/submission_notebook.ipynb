{
 "cells": [
  {
   "cell_type": "markdown",
   "metadata": {},
   "source": [
    "### Lab Task 1"
   ]
  },
  {
   "cell_type": "code",
   "execution_count": 2,
   "metadata": {
    "tags": []
   },
   "outputs": [
    {
     "name": "stdout",
     "output_type": "stream",
     "text": [
      "Enter first number:  4\n",
      "Enter second number:  2\n"
     ]
    },
    {
     "name": "stdout",
     "output_type": "stream",
     "text": [
      "The numbers are not equal\n",
      "4 is greater than 2\n"
     ]
    }
   ],
   "source": [
    "# Input two numbers\n",
    "a = int(input(\"Enter first number: \"))\n",
    "b = int(input(\"Enter second number: \"))\n",
    "\n",
    "# Logic\n",
    "if a == b:\n",
    "    print(\"Both numbers are equal\")\n",
    "else:\n",
    "    print(\"The numbers are not equal\")\n",
    "    if a > b:\n",
    "        print(\"{} is greater than {}\".format(a, b))\n",
    "    else:\n",
    "        print(\"{} is lesser than {}\".format(a, b))"
   ]
  },
  {
   "cell_type": "markdown",
   "metadata": {},
   "source": [
    "### Lab Task 2"
   ]
  },
  {
   "cell_type": "code",
   "execution_count": 3,
   "metadata": {
    "tags": []
   },
   "outputs": [
    {
     "name": "stdout",
     "output_type": "stream",
     "text": [
      "Sub-list 1:  [5, 6, 7, 8, 9, 10, 11, 12, 13, 14, 15, 16, 17, 18, 19, 20]\n",
      "Sub-list 2:  [1, 2, 3, 4, 5, 6, 7, 8, 9, 10, 11, 12]\n",
      "Sub-list 3:  [7, 8, 9, 10, 11, 12, 13, 14, 15, 16]\n",
      "Sub-list 4:  [4, 5]\n",
      "Sub-list 5:  [11, 12, 13, 14]\n"
     ]
    }
   ],
   "source": [
    "main_list = list(range(1, 20+1))\n",
    "\n",
    "print(\"Sub-list 1: \", main_list[4:])\n",
    "print(\"Sub-list 2: \", main_list[0:12])\n",
    "print(\"Sub-list 3: \", main_list[6:16])\n",
    "print(\"Sub-list 4: \", main_list[3:5])\n",
    "print(\"Sub-list 5: \", main_list[10:14])"
   ]
  },
  {
   "cell_type": "markdown",
   "metadata": {},
   "source": [
    "### Lab Task 3"
   ]
  },
  {
   "cell_type": "code",
   "execution_count": 3,
   "metadata": {
    "tags": []
   },
   "outputs": [
    {
     "name": "stdout",
     "output_type": "stream",
     "text": [
      "List 1:  [1, 2, 3, 4, 5]\n",
      "List 2:  [10, 20, 30, 40, 50]\n",
      "List 3 (Product):  [10, 40, 90, 160, 250]\n"
     ]
    }
   ],
   "source": [
    "def list_product(list_1, list_2):\n",
    "    list_3 = []\n",
    "    for i in range(len(list_1)):\n",
    "        sum = 0\n",
    "        for j in range(list_1[i]):\n",
    "            sum += list_2[i]\n",
    "        list_3.append(sum)\n",
    "\n",
    "    return list_3\n",
    "\n",
    "list_1 = [1, 2, 3, 4, 5]\n",
    "list_2 = [10, 20, 30, 40, 50]\n",
    "\n",
    "print(\"List 1: \", list_1)\n",
    "print(\"List 2: \", list_2)\n",
    "print(\"List 3 (Product): \", list_product(list_1, list_2))"
   ]
  },
  {
   "cell_type": "markdown",
   "metadata": {},
   "source": [
    "### Lab Task 4"
   ]
  },
  {
   "cell_type": "code",
   "execution_count": 5,
   "metadata": {
    "tags": []
   },
   "outputs": [
    {
     "name": "stdout",
     "output_type": "stream",
     "text": [
      "Enter key 1:  one\n",
      "Enter key 2:  two\n",
      "Enter key 3:  three\n",
      "Enter key 4:  four\n",
      "Enter key 5:  five\n",
      "Enter value for one:  1\n",
      "Enter value for two:  2\n",
      "Enter value for three:  3\n",
      "Enter value for four:  4\n",
      "Enter value for five:  5\n"
     ]
    },
    {
     "name": "stdout",
     "output_type": "stream",
     "text": [
      "{'one': '1', 'two': '2', 'three': '3', 'four': '4', 'five': '5'}\n"
     ]
    }
   ],
   "source": [
    "# create an empty dictionary\n",
    "task_dict = {}\n",
    "\n",
    "# prompt the user to input five keys\n",
    "for i in range(5):\n",
    "    key = input(\"Enter key \" + str(i + 1) + \": \")\n",
    "    task_dict[key] = None\n",
    "\n",
    "# prompt the user to input values for each key\n",
    "for key in task_dict:\n",
    "    value = input(\"Enter value for \" + key + \": \")\n",
    "    task_dict[key] = value\n",
    "\n",
    "# display the dictionary\n",
    "print(task_dict)"
   ]
  },
  {
   "cell_type": "markdown",
   "metadata": {},
   "source": [
    "### Lab Task 5"
   ]
  },
  {
   "cell_type": "code",
   "execution_count": 4,
   "metadata": {
    "tags": []
   },
   "outputs": [
    {
     "name": "stdout",
     "output_type": "stream",
     "text": [
      "File Contents:\n",
      "My name is Muhammad Umer\n",
      "\n",
      "Modified Contents:\n",
      "My name is Muhammad Umer\n",
      "My registration number is 345834\n"
     ]
    }
   ],
   "source": [
    "# create a text file with the message \"My name is Muhammad Umer\"\n",
    "with open(\"lab2.txt\", \"w\") as f:\n",
    "    f.write(\"My name is Muhammad Umer\")\n",
    "\n",
    "# open the file in read mode and display the contents\n",
    "with open(\"lab2.txt\", \"r\") as f:\n",
    "    contents = f.read()\n",
    "    print(\"File Contents:\\n\" + contents)\n",
    "\n",
    "# open the file in append mode and add the message \"My registration number is 345834\"\n",
    "with open(\"lab2.txt\", \"a\") as f:\n",
    "    f.write(\"\\nMy registration number is 345834\")\n",
    "\n",
    "# read the file again and display the modified contents\n",
    "with open(\"lab2.txt\", \"r\") as f:\n",
    "    contents = f.read()\n",
    "    print(\"\\nModified Contents:\\n\" + contents)"
   ]
  }
 ],
 "metadata": {
  "kernelspec": {
   "display_name": "Python 3 (ipykernel)",
   "language": "python",
   "name": "python3"
  },
  "language_info": {
   "codemirror_mode": {
    "name": "ipython",
    "version": 3
   },
   "file_extension": ".py",
   "mimetype": "text/x-python",
   "name": "python",
   "nbconvert_exporter": "python",
   "pygments_lexer": "ipython3",
   "version": "3.10.12"
  }
 },
 "nbformat": 4,
 "nbformat_minor": 4
}
