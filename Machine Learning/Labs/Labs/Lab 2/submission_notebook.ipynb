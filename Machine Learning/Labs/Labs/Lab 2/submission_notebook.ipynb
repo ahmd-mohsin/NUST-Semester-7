{
 "cells": [
  {
   "cell_type": "markdown",
   "metadata": {},
   "source": [
    "### Lab Task 1"
   ]
  },
  {
   "cell_type": "code",
   "execution_count": 1,
   "metadata": {},
   "outputs": [
    {
     "name": "stdout",
     "output_type": "stream",
     "text": [
      "M\n",
      "u\n",
      "h\n",
      "a\n",
      "m\n",
      "m\n",
      "a\n",
      "d\n",
      " \n",
      "U\n",
      "m\n",
      "e\n",
      "r\n"
     ]
    }
   ],
   "source": [
    "\"\"\"\n",
    "Create a 1-D list containing the characters of the name of any one person in your group. Loop through the list and display each character on a new line.\n",
    "\"\"\"\n",
    "\n",
    "name_list = [\"M\", \"u\", \"h\", \"a\", \"m\", \"m\", \"a\", \"d\", \" \", \"U\", \"m\", \"e\", \"r\"]\n",
    "\n",
    "for character in name_list:\n",
    "    print(f\"{character}\")"
   ]
  },
  {
   "cell_type": "markdown",
   "metadata": {},
   "source": [
    "### Lab Task 2"
   ]
  },
  {
   "cell_type": "code",
   "execution_count": 2,
   "metadata": {},
   "outputs": [
    {
     "name": "stdout",
     "output_type": "stream",
     "text": [
      "Enter an input:  4\n"
     ]
    },
    {
     "name": "stdout",
     "output_type": "stream",
     "text": [
      "[4]\n"
     ]
    },
    {
     "name": "stdout",
     "output_type": "stream",
     "text": [
      "Enter an input:  7\n"
     ]
    },
    {
     "name": "stdout",
     "output_type": "stream",
     "text": [
      "[4, 7]\n"
     ]
    },
    {
     "name": "stdout",
     "output_type": "stream",
     "text": [
      "Enter an input:  3\n"
     ]
    },
    {
     "name": "stdout",
     "output_type": "stream",
     "text": [
      "[3, 4, 7]\n"
     ]
    },
    {
     "name": "stdout",
     "output_type": "stream",
     "text": [
      "Enter an input:  done\n"
     ]
    }
   ],
   "source": [
    "\"\"\"\n",
    "Write a program that repeatedly prompts the user for input. The user will keep entering numbers which are added to a list. Each time a number is added to the list, it must be placed in such a way that the list items are always in ascending order. Each time a number is input, the list is to be printed showing the newly added number. This continues until the word “done” is input at which point the prompts will stop. The final list is then displayed. Do NOT use any inbuilt sorting function for this task.\n",
    "\"\"\"\n",
    "\n",
    "number_list = []\n",
    "\n",
    "while True:\n",
    "    number = input(\"Enter an input: \")\n",
    "    if number == \"done\":\n",
    "        break\n",
    "    else:\n",
    "        number = int(number)\n",
    "        for index, item in enumerate(number_list):\n",
    "            if number < item:\n",
    "                number_list.insert(index, number)\n",
    "                break\n",
    "        else:\n",
    "            number_list.append(number)\n",
    "        print(number_list)"
   ]
  },
  {
   "cell_type": "markdown",
   "metadata": {},
   "source": [
    "### Lab Task 3"
   ]
  },
  {
   "cell_type": "code",
   "execution_count": 3,
   "metadata": {},
   "outputs": [
    {
     "name": "stdout",
     "output_type": "stream",
     "text": [
      "Sub-list 1:  [5, 6, 7, 8, 9, 10, 11, 12, 13, 14, 15, 16, 17, 18, 19, 20]\n",
      "Sub-list 2:  [1, 2, 3, 4, 5, 6, 7, 8, 9, 10, 11, 12]\n",
      "Sub-list 3:  [7, 8, 9, 10, 11, 12, 13, 14, 15, 16]\n",
      "Sub-list 4:  [4, 5]\n",
      "Sub-list 5:  [11, 12, 13, 14]\n"
     ]
    }
   ],
   "source": [
    "\"\"\"\n",
    "Create a list with the sequence 1, 2, 3… 20. Then using the slice operation (:) on this list, print the following sub-lists:\n",
    "5, 6, 7… 20\n",
    "1, 2, 3… 12\n",
    "7, 8, 9 … 16\n",
    "4, 5\n",
    "11, 12, 13, 14\n",
    "\"\"\"\n",
    "\n",
    "main_list = list(range(1, 20+1))\n",
    "\n",
    "print(\"Sub-list 1: \", main_list[4:])\n",
    "print(\"Sub-list 2: \", main_list[0:12])\n",
    "print(\"Sub-list 3: \", main_list[6:16])\n",
    "print(\"Sub-list 4: \", main_list[3:5])\n",
    "print(\"Sub-list 5: \", main_list[10:14])"
   ]
  },
  {
   "cell_type": "markdown",
   "metadata": {},
   "source": [
    "### Lab Task 4"
   ]
  },
  {
   "cell_type": "code",
   "execution_count": 4,
   "metadata": {},
   "outputs": [
    {
     "name": "stdout",
     "output_type": "stream",
     "text": [
      "Enter key 1:  one\n",
      "Enter key 2:  two\n",
      "Enter key 3:  three\n",
      "Enter key 4:  four\n",
      "Enter key 5:  five\n",
      "Enter value for one:  1\n",
      "Enter value for two:  2\n",
      "Enter value for three:  3\n",
      "Enter value for four:  4\n",
      "Enter value for five:  5\n"
     ]
    },
    {
     "name": "stdout",
     "output_type": "stream",
     "text": [
      "{'one': '1', 'two': '2', 'three': '3', 'four': '4', 'five': '5'}\n"
     ]
    }
   ],
   "source": [
    "\"\"\"\n",
    "In this task, you will make use of dictionaries. Write a program that first prompts the user to input five strings which will be the keys of the dictionary. Then, the program must prompt the user to input the values of the respective keys. When entering the values, the user must be shown the key whose value is being input. Once all values are entered, display the dictionary. \n",
    "\"\"\"\n",
    "\n",
    "# create an empty dictionary\n",
    "task_dict = {}\n",
    "\n",
    "# prompt the user to input five keys\n",
    "for i in range(5):\n",
    "    key = input(\"Enter key \" + str(i + 1) + \": \")\n",
    "    task_dict[key] = None\n",
    "\n",
    "# prompt the user to input values for each key\n",
    "for key in task_dict:\n",
    "    value = input(\"Enter value for \" + key + \": \")\n",
    "    task_dict[key] = value\n",
    "\n",
    "# display the dictionary\n",
    "print(task_dict)"
   ]
  },
  {
   "cell_type": "markdown",
   "metadata": {},
   "source": [
    "### Lab Task 5"
   ]
  },
  {
   "cell_type": "code",
   "execution_count": 2,
   "metadata": {
    "tags": []
   },
   "outputs": [
    {
     "name": "stdout",
     "output_type": "stream",
     "text": [
      "Array: \n",
      " [[9 5 2 2 3]\n",
      " [1 8 3 5 6]\n",
      " [9 1 9 4 9]\n",
      " [4 1 2 3 9]\n",
      " [2 3 9 6 9]]\n",
      "\n",
      "Element (4, 4):  3\n",
      "\n",
      "Rows 2 and 3: \n",
      " [[1 8 3 5 6]\n",
      " [9 1 9 4 9]]\n",
      "\n",
      "Central 2x3 Elements: \n",
      " [[8 3 5]\n",
      " [1 9 4]\n",
      " [1 2 3]]\n",
      "\n",
      "Sum of Matrix Elements:  124\n",
      "\n",
      "Sum of Matrix Elements along Axis 0:  [25 18 25 20 36]\n",
      "\n",
      "Sum of Matrix Elements along Axis 1:  [21 23 32 19 29]\n",
      "\n",
      "Mean of Matrix Elements:  4.96\n",
      "\n",
      "Standard Deviation of Matrix Elements:  2.9997333214804276\n"
     ]
    }
   ],
   "source": [
    "\"\"\"\n",
    "Import the NumPy Library. Use the np.array function to define a 5x5 array with elements of your choice. Ensure that the elements are numbers (not strings). Then, perform the following:\n",
    "•\tPrint the array\n",
    "•\tPrint element(4, 4)\n",
    "•\tPrint rows 2 and 3 via slicing\n",
    "•\tPrint the central 3x3 elements in a matrix\n",
    "•\tCompute the sum of the matrix elements\n",
    "•\tCompute the sum of the matrix elements along axis 0\n",
    "•\tCompute the sum of the matrix elements along axis 1\n",
    "•\tCompute the mean of the matrix elements\n",
    "•\tCompute the standard deviation of the matrix elements\n",
    "\"\"\"\n",
    "\n",
    "import numpy as np\n",
    "arr = np.random.randint(1, 10, (5, 5))\n",
    "\n",
    "print(\"Array: \\n\", arr)\n",
    "print(\"\\nElement (4, 4): \", arr[3, 3])\n",
    "print(\"\\nRows 2 and 3: \\n\", arr[1:3, :])\n",
    "print(\"\\nCentral 2x3 Elements: \\n\", arr[1:4, 1:4])\n",
    "print(\"\\nSum of Matrix Elements: \", np.sum(arr))\n",
    "print(\"\\nSum of Matrix Elements along Axis 0: \", np.sum(arr, axis=0))\n",
    "print(\"\\nSum of Matrix Elements along Axis 1: \", np.sum(arr, axis=1))\n",
    "print(\"\\nMean of Matrix Elements: \", np.mean(arr))\n",
    "print(\"\\nStandard Deviation of Matrix Elements: \", np.std(arr))"
   ]
  },
  {
   "cell_type": "markdown",
   "metadata": {},
   "source": [
    "### Lab Task 6"
   ]
  },
  {
   "cell_type": "code",
   "execution_count": 3,
   "metadata": {
    "tags": []
   },
   "outputs": [
    {
     "name": "stdout",
     "output_type": "stream",
     "text": [
      "Sum of Matrices: \n",
      " [[13  6  6]\n",
      " [10 14 10]\n",
      " [10 10 11]]\n",
      "\n",
      "Difference of Matrices: \n",
      " [[ 5  2 -4]\n",
      " [ 0  4 -8]\n",
      " [ 6 -2  7]]\n",
      "\n",
      "Element-wise Product of Matrices: \n",
      " [[36  8  5]\n",
      " [25 45  9]\n",
      " [16 24 18]]\n",
      "\n",
      "Element-wise Division of Matrices: \n",
      " [[2.25       2.         0.2       ]\n",
      " [1.         1.8        0.11111111]\n",
      " [4.         0.66666667 4.5       ]]\n",
      "\n",
      "Matrix Multiplication of Matrices: \n",
      " [[ 58  44  83]\n",
      " [ 67  61 108]\n",
      " [ 70  90  94]]\n"
     ]
    }
   ],
   "source": [
    "\"\"\"\n",
    "Use the np.array function to define two matrices of size 3x3. Place numerical elements of your choice in the matrices. Write code to perform the following:\n",
    "•\tPrint the arrays\n",
    "•\tCompute the sum of the matrices\n",
    "•\tCompute the difference of the matrices\n",
    "•\tCompute the element-wise product of the matrices\n",
    "•\tCompute the element-wise division of the matrices\n",
    "•\tCompute the matrix multiplication of the matrices\n",
    "\"\"\"\n",
    "\n",
    "arr_1 = np.random.randint(1, 10, (3, 3))\n",
    "arr_2 = np.random.randint(1, 10, (3, 3))\n",
    "\n",
    "print(\"Sum of Matrices: \\n\", arr_1 + arr_2)\n",
    "print(\"\\nDifference of Matrices: \\n\", arr_1 - arr_2)\n",
    "print(\"\\nElement-wise Product of Matrices: \\n\", arr_1 * arr_2)\n",
    "print(\"\\nElement-wise Division of Matrices: \\n\", arr_1 / arr_2)\n",
    "print(\"\\nMatrix Multiplication of Matrices: \\n\", arr_1 @ arr_2)"
   ]
  },
  {
   "cell_type": "markdown",
   "metadata": {},
   "source": [
    "### Lab Task 7"
   ]
  },
  {
   "cell_type": "code",
   "execution_count": 7,
   "metadata": {
    "tags": []
   },
   "outputs": [
    {
     "name": "stdout",
     "output_type": "stream",
     "text": [
      "a)\n",
      "Roots of Equation 3x^2 + 2x - 10:  [1.52258812]\n",
      "Value at [1.52258812]:  [0.]\n",
      "\n",
      "b)\n",
      "Roots of Equation x^2 - 20x + 45:  [10.00000017]\n",
      "Value at [10.00000017]:  [-55.]\n",
      "\n",
      "c)\n",
      "Sparse Matrix: \n",
      "   (0, 0)\t1\n",
      "  (0, 6)\t3\n",
      "  (1, 0)\t2\n",
      "  (1, 8)\t8\n",
      "  (2, 0)\t3\n",
      "  (2, 5)\t5\n",
      "\n",
      "Sparse Matrix Data: \n",
      " [1 3 2 8 3 5]\n",
      "\n",
      "Sparse Matrix Non-Zero Elements: \n",
      " 6\n",
      "\n",
      "d)\n",
      "\n",
      "x =  [1, 2, 3, 4, 5, 6, 7, 8, 9, 10]\n",
      "y =  [3, 5, 7, 9, 11, 13, 15, 17, 19, 21]\n",
      "\n",
      "Interpolated Values at:  [1.5, 2.5, 3.5] \n",
      "\t\t\t [4. 6. 8.]\n"
     ]
    }
   ],
   "source": [
    "\"\"\"\n",
    "In this task, you will use various functions of the SciPy library that are commonly used in machine learning. Import the various modules from SciPy Library:\n",
    "from scipy.optimize import root\n",
    "from scipy.optimize import minimize\n",
    "from scipy.sparse import csr_matrix\n",
    "from scipy.interpolate import interp1d\n",
    "\n",
    "a)\tUse the root function to determine the roots of the equation 3x2 + 2x – 10.\n",
    "b)\tIn machine learning, it is very often required to find the argument that minimizes a complex equation with the given data. Use the minimize function to determine the roots of the equation x2 - 20x + 45.\n",
    "c)\tIn machine learning, sometimes there are matrices in which most of the elements are zero. In such cases, it is more convenient to store them as sparse matrices which holds information of the non-zero elements. In this task, create a 3x10 sparse matrix (A) with elements of your choice. Ensure that about 2/3 of the elements are zero. Then, print the matrix information using csr_matrix(A), csr_matrix(A).data and csr_matrix(A).count_nonzero().\n",
    "d)\tIn this task, you will perform interpolation. Create two lists x and y. The list x contains elements 1,2,3… 10. The list y contains the elements for y = 2x + 1. Use the interp_func = interp1d(x, y) to get the interpolating function. Then, use interp_func(val) to get any 3 interpolated values.\n",
    "\"\"\"\n",
    "\n",
    "from scipy.optimize import root\n",
    "from scipy.optimize import minimize\n",
    "from scipy.sparse import csr_matrix\n",
    "from scipy.interpolate import interp1d\n",
    "\n",
    "# a)\n",
    "equation = lambda x: 3*x**2 + 2*x - 10\n",
    "root_eqn = root(equation, 0)\n",
    "print(\"a)\")\n",
    "print(r\"Roots of Equation 3x^2 + 2x - 10: \", root_eqn.x)\n",
    "print(f\"Value at {root_eqn.x}: \", equation(root_eqn.x))\n",
    "\n",
    "# b)\n",
    "equation = lambda x: x**2 - 20*x + 45\n",
    "print(\"\\nb)\")\n",
    "root_eqn = minimize(equation, 0)\n",
    "print(r\"Roots of Equation x^2 - 20x + 45: \", root_eqn.x)\n",
    "print(f\"Value at {root_eqn.x}: \", equation(root_eqn.x))\n",
    "\n",
    "# c)\n",
    "print(\"\\nc)\")\n",
    "arr = np.array([[1, 0, 0, 0, 0, 0, 3, 0, 0, 0],\n",
    "              [2, 0, 0, 0, 0, 0, 0, 0, 8, 0],\n",
    "              [3, 0, 0, 0, 0, 5, 0, 0, 0, 0]])\n",
    "\n",
    "sparse_arr = csr_matrix(arr)\n",
    "print(\"Sparse Matrix: \\n\", sparse_arr)\n",
    "print(\"\\nSparse Matrix Data: \\n\", sparse_arr.data)\n",
    "print(\"\\nSparse Matrix Non-Zero Elements: \\n\", sparse_arr.count_nonzero())\n",
    "\n",
    "# d)\n",
    "print(\"\\nd)\")\n",
    "x = list(range(1, 10+1))\n",
    "y = [(2*i) + 1 for i in x]\n",
    "print(\"\\nx = \", x)\n",
    "print(\"y = \", y)\n",
    "\n",
    "interp_fun = interp1d(x, y)\n",
    "interp_fun_val = interp_fun([1.5, 2.5, 3.5])\n",
    "\n",
    "print(\"\\nInterpolated Values at: \", [1.5, 2.5, 3.5], \"\\n\\t\\t\\t\", interp_fun_val)"
   ]
  }
 ],
 "metadata": {
  "kernelspec": {
   "display_name": "Python 3 (ipykernel)",
   "language": "python",
   "name": "python3"
  },
  "language_info": {
   "codemirror_mode": {
    "name": "ipython",
    "version": 3
   },
   "file_extension": ".py",
   "mimetype": "text/x-python",
   "name": "python",
   "nbconvert_exporter": "python",
   "pygments_lexer": "ipython3",
   "version": "3.10.12"
  }
 },
 "nbformat": 4,
 "nbformat_minor": 4
}
