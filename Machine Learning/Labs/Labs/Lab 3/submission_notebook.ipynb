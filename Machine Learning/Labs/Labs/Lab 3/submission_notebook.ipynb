{
 "cells": [
  {
   "cell_type": "code",
   "execution_count": 1,
   "metadata": {},
   "outputs": [],
   "source": [
    "import os\n",
    "import cv2\n",
    "import numpy as np\n",
    "\n",
    "\n",
    "def image_hold(name):\n",
    "    wait_time = 250\n",
    "    while cv2.getWindowProperty(name, cv2.WND_PROP_VISIBLE) >= 1:\n",
    "        keyCode = cv2.waitKey(wait_time)\n",
    "        if (keyCode & 0xFF) == ord(\"q\"):\n",
    "            cv2.destroyAllWindows()\n",
    "            break\n",
    "\n",
    "\n",
    "path_img1 = os.path.join(\".\", \"lab3_robots.jpg\")\n",
    "path_img2 = os.path.join(\".\", \"lab3_walle.jpg\")\n",
    "path_img3 = os.path.join(\".\", \"lab3_robot_green_bg.bmp\")"
   ]
  },
  {
   "cell_type": "markdown",
   "metadata": {},
   "source": [
    "### Lab Task 1"
   ]
  },
  {
   "cell_type": "code",
   "execution_count": 6,
   "metadata": {},
   "outputs": [],
   "source": [
    "\"\"\"\n",
    "Write a python script in which you will load 3 different images from disk. Then, display the images in different windows at the same time. You will need to provide the code and a single screenshot which shows all 3 windows at the same time.\n",
    "\"\"\"\n",
    "\n",
    "img1 = cv2.imread(path_img1)\n",
    "img2 = cv2.imread(path_img2)\n",
    "img3 = cv2.imread(path_img3)\n",
    "\n",
    "cv2.imshow(\"img1\", img1)\n",
    "cv2.imshow(\"img2\", img2)\n",
    "cv2.imshow(\"img3\", img3)\n",
    "cv2.waitKey(0)\n",
    "cv2.destroyAllWindows()"
   ]
  },
  {
   "cell_type": "markdown",
   "metadata": {},
   "source": [
    "### Lab Task 2"
   ]
  },
  {
   "cell_type": "code",
   "execution_count": 7,
   "metadata": {},
   "outputs": [],
   "source": [
    "\"\"\"\n",
    "Write code to load the walle.jpg file. Using the slice operation, crop out the four quadrants of the image and display them in separate windows. The code must be generic enough to take the image size into account. For submission, provide the code and a single screenshot showing all 4 windows.\n",
    "\"\"\"\n",
    "\n",
    "img2 = cv2.imread(path_img2)\n",
    "height, width, channels = img2.shape\n",
    "\n",
    "img2_1 = img2[0 : int(height / 2), 0 : int(width / 2)]\n",
    "img2_2 = img2[0 : int(height / 2), int(width / 2) : width]\n",
    "img2_3 = img2[int(height / 2) : height, 0 : int(width / 2)]\n",
    "img2_4 = img2[int(height / 2) : height, int(width / 2) : width]\n",
    "\n",
    "cv2.imshow(\"img2_1\", img2_1)\n",
    "cv2.imshow(\"img2_2\", img2_2)\n",
    "cv2.imshow(\"img2_3\", img2_3)\n",
    "cv2.imshow(\"img2_4\", img2_4)\n",
    "cv2.waitKey(0)\n",
    "cv2.destroyAllWindows()"
   ]
  },
  {
   "cell_type": "markdown",
   "metadata": {},
   "source": [
    "### Lab Task 3"
   ]
  },
  {
   "cell_type": "code",
   "execution_count": 8,
   "metadata": {},
   "outputs": [],
   "source": [
    "\"\"\"\n",
    "Write code to load the walle.jpg file and place alternating green and white horizontal lines in the image. Do NOT use the line function (cv2.line). You need to this by changing the pixel colors. Each line must be 1-pixel thick. The lines are also spaced apart by 1-pixel wide gap. Thus, the image will have one green line, then one line of image pixels, then one white line, then another line of image pixels and so on. Provide the code and screenshot for the submission.\n",
    "\"\"\"\n",
    "\n",
    "img2 = cv2.imread(path_img2)\n",
    "\n",
    "for i in range(0, height, 3):\n",
    "    img2[i, :, :] = [0, 255, 0]\n",
    "    img2[i + 2, :, :] = [255, 255, 255]\n",
    "\n",
    "cv2.imshow(\"img2\", img2)\n",
    "cv2.waitKey(0)\n",
    "cv2.destroyAllWindows()"
   ]
  },
  {
   "cell_type": "markdown",
   "metadata": {},
   "source": [
    "### Lab Task 4"
   ]
  },
  {
   "cell_type": "code",
   "execution_count": 9,
   "metadata": {},
   "outputs": [],
   "source": [
    "\"\"\"\n",
    "Load any one of the provided images and place a line, rectangle, circle and text using the inbuilt functions in OpenCV. Each of the placed object must have a different color. The text must contain the name of at least one member of your group. Provide the code and screenshot of the image.\n",
    "\"\"\"\n",
    "\n",
    "img2 = cv2.imread(path_img2)\n",
    "height, width, channels = img2.shape\n",
    "\n",
    "img2 = cv2.line(img2, (0, 0), (width, height), (255, 0, 0), 5)\n",
    "img2 = cv2.rectangle(img2, (30, 30), (width // 4, height // 4), (0, 255, 0), 5)\n",
    "img2 = cv2.circle(\n",
    "    img2, (int(width / 3), int(height / 3)), int(height / 3), (0, 0, 255), 5\n",
    ")\n",
    "img2 = cv2.putText(\n",
    "    img2,\n",
    "    \"Muhammad Umer\",\n",
    "    (10, int(height) - int(height / 50)),\n",
    "    cv2.FONT_HERSHEY_SIMPLEX,\n",
    "    1,\n",
    "    (0, 0, 0),\n",
    "    2,\n",
    ")\n",
    "\n",
    "cv2.imshow(\"img2\", img2)\n",
    "cv2.waitKey(0)\n",
    "cv2.destroyAllWindows()"
   ]
  },
  {
   "cell_type": "markdown",
   "metadata": {},
   "source": [
    "### Lab Task 5"
   ]
  },
  {
   "cell_type": "code",
   "execution_count": 10,
   "metadata": {
    "tags": []
   },
   "outputs": [],
   "source": [
    "\"\"\"\n",
    "In this task, you will place solid circles of alternating colors similar to those shown in the figure.\n",
    "Refer to figure.\n",
    "\"\"\"\n",
    "\n",
    "img2 = cv2.imread(path_img2)\n",
    "height, width, channels = img2.shape\n",
    "\n",
    "color_tracker = 0\n",
    "for i in range(0, width, 125):\n",
    "    for j in range(0, height, 115):\n",
    "        if (i // 125) % 2 == 0:\n",
    "            if color_tracker % 2 == 0:\n",
    "                cv2.circle(img2, (i + 50, j + 50), 50, (0, 0, 255), -1)\n",
    "            else:\n",
    "                cv2.circle(img2, (i + 50, j + 50), 50, (0, 0, 0), -1)\n",
    "        else:\n",
    "            if color_tracker % 2 == 0:\n",
    "                cv2.circle(img2, (i + 50, j + 50), 50, (0, 0, 0), -1)\n",
    "            else:\n",
    "                cv2.circle(img2, (i + 50, j + 50), 50, (0, 0, 255), -1)\n",
    "        color_tracker += 1\n",
    "\n",
    "cv2.imshow(\"img2\", img2)\n",
    "cv2.waitKey(0)\n",
    "cv2.destroyAllWindows()"
   ]
  },
  {
   "cell_type": "markdown",
   "metadata": {},
   "source": [
    "### Lab Task 6"
   ]
  },
  {
   "cell_type": "code",
   "execution_count": 11,
   "metadata": {
    "tags": []
   },
   "outputs": [],
   "source": [
    "\"\"\"\n",
    "For detection of faces, people, objects etc. in images, the result of the detection is depicted as a rectangular box around the detection. Load the robots.jpg image and use the cv2.rectangle function to place bounding boxes around the robots. Each bounding box must be of a different color. Provide the code and screenshot of the final result.\n",
    "\"\"\"\n",
    "\n",
    "img1 = cv2.imread(path_img1)\n",
    "height, width, channels = img1.shape\n",
    "\n",
    "img1 = cv2.rectangle(img1, (150, 35), (300, 150), (0, 255, 0), 5)\n",
    "img1 = cv2.rectangle(\n",
    "    img1, (480, 30), (590, 145), (0, 0, 255), 5\n",
    ")\n",
    "img1 = cv2.rectangle(\n",
    "    img1, (390, 30), (475, 120), (255, 0, 255), 5\n",
    ")\n",
    "\n",
    "cv2.imshow(\"img1\", img1)\n",
    "cv2.waitKey(0)\n",
    "cv2.destroyAllWindows()"
   ]
  },
  {
   "cell_type": "markdown",
   "metadata": {},
   "source": [
    "### Lab Task 7"
   ]
  },
  {
   "cell_type": "code",
   "execution_count": 13,
   "metadata": {
    "tags": []
   },
   "outputs": [],
   "source": [
    "\"\"\"\n",
    "Load any one of the provided images and use the resize function to make copies of the image at different sizes. Display at least 3 different sizes in separate windows and take the screenshot. Provide the code and screenshot for the submission.\n",
    "\"\"\"\n",
    "\n",
    "img3 = cv2.imread(path_img3)\n",
    "height, width, channels = img3.shape\n",
    "\n",
    "img3_1 = cv2.resize(img3, (int(width / 2), int(height / 2)))\n",
    "img3_2 = cv2.resize(img3, (int(width / 4), int(height / 4)))\n",
    "img3_3 = cv2.resize(img3, (int(width * 2), int(height * 2)))\n",
    "\n",
    "cv2.imshow(\"img3_1\", img3_1)\n",
    "cv2.imshow(\"img3_2\", img3_2)\n",
    "cv2.imshow(\"img3_3\", img3_3)\n",
    "cv2.waitKey(0)\n",
    "cv2.destroyAllWindows()"
   ]
  },
  {
   "cell_type": "markdown",
   "metadata": {},
   "source": [
    "### Lab Task 8"
   ]
  },
  {
   "cell_type": "code",
   "execution_count": 13,
   "metadata": {},
   "outputs": [],
   "source": [
    "\"\"\"\n",
    "Load any one of the provided images and use the rotate function to rotate the image at angles of 30, 60 and 90 degrees. For each rotated image, you need to manually adjust the scale factor (in get2DRotationMatrix function) so that the entire image is shown in the window. The rotated image's border/corner must touch the window's border. Show all 3 windows in the screenshot. Provide the code and screenshot for the submission.\n",
    "\"\"\"\n",
    "\n",
    "img3 = cv2.imread(path_img3)\n",
    "height, width, channels = img3.shape\n",
    "\n",
    "img3_1 = cv2.getRotationMatrix2D((width / 2, height / 2), 30, 0.56)\n",
    "img3_1 = cv2.warpAffine(img3, img3_1, (width, height))\n",
    "img3_2 = cv2.getRotationMatrix2D((width / 2, height / 2), 60, 0.47)\n",
    "img3_2 = cv2.warpAffine(img3, img3_2, (width, height))\n",
    "img3_3 = cv2.getRotationMatrix2D((width / 2, height / 2), 90, 0.56)\n",
    "img3_3 = cv2.warpAffine(img3, img3_3, (width, height))\n",
    "\n",
    "cv2.imshow(\"img3_1\", img3_1)\n",
    "cv2.imshow(\"img3_2\", img3_2)\n",
    "cv2.imshow(\"img3_3\", img3_3)\n",
    "cv2.waitKey(0)\n",
    "cv2.destroyAllWindows()"
   ]
  },
  {
   "cell_type": "markdown",
   "metadata": {},
   "source": [
    "### Lab Task 9"
   ]
  },
  {
   "cell_type": "code",
   "execution_count": 16,
   "metadata": {},
   "outputs": [],
   "source": [
    "\"\"\"\n",
    "Import the Python Imaging Library and use it to load any one of the provided image files. Stretch the image by changing the scale of the image and place different shapes and text in the image. Provide the code and screenshot of the final output. You will need to learn to use PIL on your own for this task.\n",
    "\"\"\"\n",
    "\n",
    "from PIL import Image, ImageDraw, ImageFont\n",
    "\n",
    "img2 = Image.open(path_img2)\n",
    "img2 = img2.resize((int(width * 2), int(height * 2)))\n",
    "draw = ImageDraw.Draw(img2)\n",
    "font = ImageFont.truetype(\"arial.ttf\", 50)\n",
    "draw.text((0, 0), \"Muhammad Umer\", (0, 0, 0), font=font)\n",
    "draw.rectangle((250, 100, 600, 400), fill=None, outline=(255, 0, 0), width=10)\n",
    "draw.line((100, 100, 700, 300), fill=(0, 255, 0), width=10)\n",
    "draw.ellipse((100, 200, 400, 450), fill=None, outline=(0, 0, 255), width=10)\n",
    "img2.show()"
   ]
  }
 ],
 "metadata": {
  "kernelspec": {
   "display_name": "Python 3 (ipykernel)",
   "language": "python",
   "name": "python3"
  },
  "language_info": {
   "codemirror_mode": {
    "name": "ipython",
    "version": 3
   },
   "file_extension": ".py",
   "mimetype": "text/x-python",
   "name": "python",
   "nbconvert_exporter": "python",
   "pygments_lexer": "ipython3",
   "version": "3.10.12"
  }
 },
 "nbformat": 4,
 "nbformat_minor": 4
}
