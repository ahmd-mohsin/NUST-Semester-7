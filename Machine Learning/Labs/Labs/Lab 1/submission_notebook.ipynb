{
 "cells": [
  {
   "cell_type": "markdown",
   "metadata": {},
   "source": [
    "### Lab Task 1"
   ]
  },
  {
   "cell_type": "code",
   "execution_count": 1,
   "metadata": {
    "tags": []
   },
   "outputs": [
    {
     "name": "stdout",
     "output_type": "stream",
     "text": [
      "f(1) = 14\n",
      "f(2) = 60\n",
      "f(3) = 164\n",
      "f(4) = 350\n",
      "f(5) = 642\n"
     ]
    }
   ],
   "source": [
    "def f(x):\n",
    "    return 4 * x**3 + 5 * x**2 + 3 * x + 2\n",
    "\n",
    "for x in range(1, 5 + 1):\n",
    "    print(\"f({}) = {}\".format(x, f(x)))"
   ]
  },
  {
   "cell_type": "code",
   "execution_count": 2,
   "metadata": {
    "tags": []
   },
   "outputs": [
    {
     "name": "stdout",
     "output_type": "stream",
     "text": [
      "g(1) = 4.6\n",
      "g(2) = 12.2\n",
      "g(3) = 22.8\n",
      "g(4) = 36.4\n",
      "g(5) = 53.0\n"
     ]
    }
   ],
   "source": [
    "def g(x):\n",
    "    return ((3 * x**2 + 7 * x) / 2) - (2 * x / 5)\n",
    "\n",
    "for x in range(1, 5 + 1):\n",
    "    print(\"g({}) = {}\".format(x, g(x)))"
   ]
  },
  {
   "cell_type": "markdown",
   "metadata": {},
   "source": [
    "### Lab Task 2"
   ]
  },
  {
   "cell_type": "code",
   "execution_count": 4,
   "metadata": {
    "tags": []
   },
   "outputs": [
    {
     "name": "stdout",
     "output_type": "stream",
     "text": [
      "Enter first integer:  4\n",
      "Enter second integer:  2\n"
     ]
    },
    {
     "name": "stdout",
     "output_type": "stream",
     "text": [
      "4 is a multiple of 2\n"
     ]
    }
   ],
   "source": [
    "# Input two integers\n",
    "a = int(input(\"Enter first integer: \"))\n",
    "b = int(input(\"Enter second integer: \"))\n",
    "\n",
    "if a % b == 0:\n",
    "    print(\"{} is a multiple of {}\".format(a, b))"
   ]
  },
  {
   "cell_type": "markdown",
   "metadata": {},
   "source": [
    "### Lab Task 3"
   ]
  },
  {
   "cell_type": "code",
   "execution_count": 5,
   "metadata": {
    "tags": []
   },
   "outputs": [
    {
     "name": "stdout",
     "output_type": "stream",
     "text": [
      "Enter first number:  6\n",
      "Enter second number:  7\n"
     ]
    },
    {
     "name": "stdout",
     "output_type": "stream",
     "text": [
      "The numbers are not equal\n",
      "6 is lesser than 7\n"
     ]
    }
   ],
   "source": [
    "# Input two numbers\n",
    "a = int(input(\"Enter first number: \"))\n",
    "b = int(input(\"Enter second number: \"))\n",
    "\n",
    "# Logic\n",
    "if a == b:\n",
    "    print(\"Both numbers are equal\")\n",
    "else:\n",
    "    print(\"The numbers are not equal\")\n",
    "    if a > b:\n",
    "        print(\"{} is greater than {}\".format(a, b))\n",
    "    else:\n",
    "        print(\"{} is lesser than {}\".format(a, b))"
   ]
  },
  {
   "cell_type": "markdown",
   "metadata": {},
   "source": [
    "### Lab Task 4"
   ]
  },
  {
   "cell_type": "code",
   "execution_count": 6,
   "metadata": {
    "tags": []
   },
   "outputs": [
    {
     "name": "stdout",
     "output_type": "stream",
     "text": [
      "Enter first number:  7\n",
      "Enter second number:  3\n"
     ]
    },
    {
     "name": "stdout",
     "output_type": "stream",
     "text": [
      "Both numbers are positive\n"
     ]
    }
   ],
   "source": [
    "# Input two numbers\n",
    "a = int(input(\"Enter first number: \"))\n",
    "b = int(input(\"Enter second number: \"))\n",
    "\n",
    "if a > 0 and b > 0:\n",
    "    print(\"Both numbers are positive\")\n",
    "elif a < 0 and b < 0:\n",
    "    print(\"Both numbers are negative\")\n",
    "elif a == 0 and b == 0:\n",
    "    print(\"Both numbers are zero\")\n",
    "elif a == 0 or b == 0:\n",
    "    print(\"At least one number is zero\")\n",
    "else:\n",
    "    print(\"One number is positive and the other number is negative\")"
   ]
  },
  {
   "cell_type": "markdown",
   "metadata": {},
   "source": [
    "### Lab Task 5"
   ]
  },
  {
   "cell_type": "code",
   "execution_count": 7,
   "metadata": {
    "tags": []
   },
   "outputs": [
    {
     "name": "stdout",
     "output_type": "stream",
     "text": [
      "Enter a number:  5\n"
     ]
    },
    {
     "name": "stdout",
     "output_type": "stream",
     "text": [
      "Factorial of 5 is 120\n"
     ]
    }
   ],
   "source": [
    "# Input a number\n",
    "a = int(input(\"Enter a number: \"))\n",
    "b = a\n",
    "\n",
    "# Factorial through while loop\n",
    "factorial = 1\n",
    "while a > 1:\n",
    "    factorial *= a\n",
    "    a -= 1\n",
    "\n",
    "print(\"Factorial of {} is {}\".format(b, factorial))"
   ]
  },
  {
   "cell_type": "markdown",
   "metadata": {},
   "source": [
    "### Lab Task 6"
   ]
  },
  {
   "cell_type": "code",
   "execution_count": 8,
   "metadata": {
    "tags": []
   },
   "outputs": [
    {
     "name": "stdout",
     "output_type": "stream",
     "text": [
      "Product of 2 and 4 is 8\n"
     ]
    }
   ],
   "source": [
    "def product(a, b):\n",
    "    product = 0\n",
    "    while b > 0:\n",
    "        product += a\n",
    "        b -= 1\n",
    "    return product\n",
    "\n",
    "a = 2\n",
    "b = 4\n",
    "print(\"Product of {} and {} is {}\".format(a, b, product(a, b)))"
   ]
  },
  {
   "cell_type": "markdown",
   "metadata": {},
   "source": [
    "### Lab Task 7"
   ]
  },
  {
   "cell_type": "code",
   "execution_count": 9,
   "metadata": {
    "tags": []
   },
   "outputs": [
    {
     "name": "stdout",
     "output_type": "stream",
     "text": [
      "Enter first string:  KAL\n",
      "Enter second string:  EIDO\n",
      "Enter third string:  SCOPE\n"
     ]
    },
    {
     "name": "stdout",
     "output_type": "stream",
     "text": [
      "K\n",
      "A\n",
      "L\n",
      "E\n",
      "I\n",
      "D\n",
      "O\n",
      "S\n",
      "C\n",
      "O\n",
      "P\n",
      "E\n",
      "Total number of characters: 12\n"
     ]
    }
   ],
   "source": [
    "s1 = input(\"Enter first string: \")\n",
    "s2 = input(\"Enter second string: \")\n",
    "s3 = input(\"Enter third string: \")\n",
    "\n",
    "def printString(s1, s2, s3):\n",
    "    s = s1 + s2 + s3\n",
    "    for c in s:\n",
    "        print(c)\n",
    "    print(\"Total number of characters: {}\".format(len(s)))\n",
    "    \n",
    "printString(s1, s2, s3)"
   ]
  },
  {
   "cell_type": "markdown",
   "metadata": {},
   "source": [
    "### Lab Task 8"
   ]
  },
  {
   "cell_type": "code",
   "execution_count": 10,
   "metadata": {
    "tags": []
   },
   "outputs": [
    {
     "name": "stdout",
     "output_type": "stream",
     "text": [
      "1, 2, 3, 4, 5, 6, 7, 8, 9, 10, 11, 12, 13, 14, 15, 16, 17, 18, 19, 20\n",
      "2, 4, 6, 8, 10, 12, 14, 16, 18, 20, 22, 24, 26, 28, 30, 32, 34, 36, 38, 40\n",
      "3, 6, 9, 12, 15, 18, 21, 24, 27, 30, 33, 36, 39, 42, 45, 48, 51, 54, 57, 60\n",
      "4, 8, 12, 16, 20, 24, 28, 32, 36, 40, 44, 48, 52, 56, 60, 64, 68, 72, 76, 80\n",
      "5, 10, 15, 20, 25, 30, 35, 40, 45, 50, 55, 60, 65, 70, 75, 80, 85, 90, 95, 100\n",
      "6, 12, 18, 24, 30, 36, 42, 48, 54, 60, 66, 72, 78, 84, 90, 96, 102, 108, 114, 120\n",
      "7, 14, 21, 28, 35, 42, 49, 56, 63, 70, 77, 84, 91, 98, 105, 112, 119, 126, 133, 140\n",
      "8, 16, 24, 32, 40, 48, 56, 64, 72, 80, 88, 96, 104, 112, 120, 128, 136, 144, 152, 160\n",
      "9, 18, 27, 36, 45, 54, 63, 72, 81, 90, 99, 108, 117, 126, 135, 144, 153, 162, 171, 180\n",
      "10, 20, 30, 40, 50, 60, 70, 80, 90, 100, 110, 120, 130, 140, 150, 160, 170, 180, 190, 200\n"
     ]
    }
   ],
   "source": [
    "for i in range(1, 10 + 1):\n",
    "    # *range() unpacks the range object\n",
    "    print(*range(i, 2 * i * 10 + 1, i), sep=\", \")"
   ]
  }
 ],
 "metadata": {
  "kernelspec": {
   "display_name": "Python 3 (ipykernel)",
   "language": "python",
   "name": "python3"
  },
  "language_info": {
   "codemirror_mode": {
    "name": "ipython",
    "version": 3
   },
   "file_extension": ".py",
   "mimetype": "text/x-python",
   "name": "python",
   "nbconvert_exporter": "python",
   "pygments_lexer": "ipython3",
   "version": "3.10.12"
  }
 },
 "nbformat": 4,
 "nbformat_minor": 4
}
