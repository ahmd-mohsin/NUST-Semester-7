{
 "cells": [
  {
   "cell_type": "markdown",
   "metadata": {},
   "source": [
    "Task: 1"
   ]
  },
  {
   "cell_type": "code",
   "execution_count": null,
   "metadata": {},
   "outputs": [],
   "source": [
    "name = 'Muhammad Umer'\n",
    "\n",
    "# Create a 1-D list\n",
    "name_characters = list(name)\n",
    "\n",
    "# Loop through the list \n",
    "for char in name_characters:\n",
    "    print(char)\n"
   ]
  },
  {
   "cell_type": "markdown",
   "metadata": {},
   "source": [
    "Task: 2"
   ]
  },
  {
   "cell_type": "code",
   "execution_count": null,
   "metadata": {},
   "outputs": [],
   "source": [
    "number_list = []\n",
    "\n",
    "while True:\n",
    "    user_input = input(\"Enter a number: \")\n",
    "\n",
    "    if user_input.lower() == 'done':\n",
    "        break\n",
    "\n",
    "    try:\n",
    "        \n",
    "        num = float(user_input)\n",
    "        \n",
    "        \n",
    "        index_to_insert = 0\n",
    "        while index_to_insert < len(number_list) and number_list[index_to_insert] < num:\n",
    "            index_to_insert += 1\n",
    "        \n",
    "        \n",
    "        number_list.insert(index_to_insert, num)\n",
    "\n",
    "        # Print the updated list\n",
    "        print(\"Updated list:\", number_list)\n",
    "\n",
    "    except ValueError:\n",
    "        print(\"Invalid input. Please enter a number or 'done'.\")\n",
    "\n",
    "print(\"Final sorted list:\", number_list)\n"
   ]
  },
  {
   "cell_type": "markdown",
   "metadata": {},
   "source": [
    "Task 3"
   ]
  },
  {
   "cell_type": "code",
   "execution_count": null,
   "metadata": {},
   "outputs": [],
   "source": [
    "original_list = list(range(1, 21))\n",
    "\n",
    "sub_list1 = original_list[4:]\n",
    "sub_list2 = original_list[:12]\n",
    "sub_list3 = original_list[6:16]\n",
    "sub_list4 = original_list[3:5]\n",
    "sub_list5 = original_list[10:14]\n",
    "\n",
    "# Print the sub-lists\n",
    "print(\"Sub-list 1:\", sub_list1)\n",
    "print(\"Sub-list 2:\", sub_list2)\n",
    "print(\"Sub-list 3:\", sub_list3)\n",
    "print(\"Sub-list 4:\", sub_list4)\n",
    "print(\"Sub-list 5:\", sub_list5)\n"
   ]
  },
  {
   "cell_type": "markdown",
   "metadata": {},
   "source": [
    "Task 4"
   ]
  },
  {
   "cell_type": "code",
   "execution_count": null,
   "metadata": {},
   "outputs": [],
   "source": [
    "\n",
    "my_dict = {}\n",
    "\n",
    "\n",
    "for i in range(5):\n",
    "    key = input(f\"Enter key {i+1}: \")\n",
    "    my_dict[key] = None \n",
    "\n",
    "for key in my_dict:\n",
    "    value = input(f\"Enter value for key '{key}': \")\n",
    "    my_dict[key] = value\n",
    "\n",
    "print(\"Dictionary:\")\n",
    "for key, value in my_dict.items():\n",
    "    print(f\"{key}: {value}\")\n"
   ]
  },
  {
   "cell_type": "markdown",
   "metadata": {},
   "source": [
    "Task: 5"
   ]
  },
  {
   "cell_type": "code",
   "execution_count": null,
   "metadata": {},
   "outputs": [],
   "source": [
    "import numpy as np\n",
    "\n",
    "\n",
    "my_array = np.array([[1, 2, 3, 4, 5],\n",
    "                     [6, 7, 8, 9, 10],\n",
    "                     [11, 12, 13, 14, 15],\n",
    "                     [16, 17, 18, 19, 20]])\n",
    "\n",
    "\n",
    "print(\"Array:\")\n",
    "print(my_array)\n",
    "\n",
    "print(\"Element at (4, 4):\", my_array[3, 4])\n",
    "\n",
    "print(\"Rows 2 and 3:\")\n",
    "print(my_array[1:3, :])\n",
    "\n",
    "print(\"Central 3x3 elements:\")\n",
    "print(my_array[1:4, 1:4])\n",
    "\n",
    "print(\"Sum of all elements:\", np.sum(my_array))\n",
    "\n",
    "\n",
    "print(\"Sum along axis 0 (columns):\", np.sum(my_array, axis=0))\n",
    "\n",
    "# Compute the sum of the matrix elements along axis 1 (row-wise)\n",
    "print(\"Sum along axis 1 (rows):\", np.sum(my_array, axis=1))\n",
    "\n",
    "# Compute the mean of the matrix elements\n",
    "print(\"Mean of all elements:\", np.mean(my_array))\n",
    "\n",
    "# Compute the standard deviation of the matrix elements\n",
    "print(\"Standard deviation of all elements:\", np.std(my_array))\n"
   ]
  },
  {
   "cell_type": "markdown",
   "metadata": {},
   "source": [
    "Task 6"
   ]
  },
  {
   "cell_type": "code",
   "execution_count": null,
   "metadata": {},
   "outputs": [],
   "source": [
    "matrix1 = np.array([[1, 2, 3],\n",
    "                   [4, 5, 6],\n",
    "                   [7, 8, 9]])\n",
    "\n",
    "matrix2 = np.array([[9, 8, 7],\n",
    "                   [6, 5, 4],\n",
    "                   [3, 2, 1]])\n",
    "\n",
    "\n",
    "print(\"Matrix 1:\")\n",
    "print(matrix1)\n",
    "\n",
    "print(\"\\nMatrix 2:\")\n",
    "print(matrix2)\n",
    "\n",
    "\n",
    "matrix_sum = matrix1 + matrix2\n",
    "print(\"\\nMatrix Sum:\")\n",
    "print(matrix_sum)\n",
    "\n",
    "\n",
    "matrix_diff = matrix1 - matrix2\n",
    "print(\"\\nMatrix Difference:\")\n",
    "print(matrix_diff)\n",
    "\n",
    "\n",
    "element_wise_product = matrix1 * matrix2\n",
    "print(\"\\nElement-wise Product:\")\n",
    "print(element_wise_product)\n",
    "\n",
    "\n",
    "element_wise_division = np.divide(matrix1, matrix2, where=matrix2 != 0)\n",
    "print(\"\\nElement-wise Division:\")\n",
    "print(element_wise_division)\n",
    "\n",
    "\n",
    "matrix_product = np.dot(matrix1, matrix2)\n",
    "print(\"\\nMatrix Multiplication:\")\n",
    "print(matrix_product)\n"
   ]
  },
  {
   "cell_type": "markdown",
   "metadata": {},
   "source": [
    "Task: 7a"
   ]
  },
  {
   "cell_type": "code",
   "execution_count": null,
   "metadata": {},
   "outputs": [],
   "source": [
    "pip install scipy\n"
   ]
  },
  {
   "cell_type": "code",
   "execution_count": null,
   "metadata": {},
   "outputs": [],
   "source": [
    "from scipy.optimize import root\n",
    "\n",
    "def equation(x):\n",
    "    return 3*x**2 + 2*x - 10\n",
    "\n",
    "\n",
    "solution = root(equation, [-2, 3])  \n",
    "print(\"Roots of the equation:\", solution.x)\n"
   ]
  },
  {
   "cell_type": "markdown",
   "metadata": {},
   "source": [
    "Task 7b"
   ]
  },
  {
   "cell_type": "code",
   "execution_count": null,
   "metadata": {},
   "outputs": [],
   "source": [
    "from scipy.optimize import minimize\n",
    "\n",
    "def equation_to_minimize(x):\n",
    "    return x**2 - 20*x + 45\n",
    "\n",
    "bounds = [(0, 10)]\n",
    "\n",
    "result = minimize(equation_to_minimize, x0=0, bounds=bounds)\n",
    "\n",
    "\n",
    "print(\"Minimum value of the equation:\", result)  \n"
   ]
  },
  {
   "cell_type": "markdown",
   "metadata": {},
   "source": [
    "Task 7c"
   ]
  },
  {
   "cell_type": "code",
   "execution_count": null,
   "metadata": {},
   "outputs": [],
   "source": [
    "from scipy.sparse import csr_matrix\n",
    "import numpy as np\n",
    "\n",
    "\n",
    "dense_matrix = np.random.randint(0, 3, (3, 10))  # Create a dense matrix with random values\n",
    "sparse_matrix = csr_matrix(dense_matrix)\n",
    "\n",
    "\n",
    "print(\"Sparse Matrix:\")\n",
    "print(sparse_matrix)\n",
    "\n",
    "print(\"\\nData Array:\")\n",
    "print(sparse_matrix.data)\n",
    "\n",
    "print(\"\\nNumber of Non-Zero Elements:\")\n",
    "print(sparse_matrix.count_nonzero())"
   ]
  },
  {
   "cell_type": "markdown",
   "metadata": {},
   "source": [
    "Task 7d"
   ]
  },
  {
   "cell_type": "code",
   "execution_count": null,
   "metadata": {},
   "outputs": [],
   "source": [
    "from scipy.interpolate import interp1d\n",
    "\n",
    "x = [1, 2, 3, 4, 5, 6, 7, 8, 9, 10]\n",
    "y = [2 * xi + 1 for xi in x]\n",
    "\n",
    "interp_func = interp1d(x, y)\n",
    "\n",
    "interpolated_values = interp_func([1.5, 2.5, 3.5])\n",
    "print(\"Interpolated Values:\", interpolated_values)"
   ]
  }
 ],
 "metadata": {
  "kernelspec": {
   "display_name": "ml",
   "language": "python",
   "name": "python3"
  },
  "language_info": {
   "codemirror_mode": {
    "name": "ipython",
    "version": 3
   },
   "file_extension": ".py",
   "mimetype": "text/x-python",
   "name": "python",
   "nbconvert_exporter": "python",
   "pygments_lexer": "ipython3",
   "version": "3.10.13"
  },
  "orig_nbformat": 4
 },
 "nbformat": 4,
 "nbformat_minor": 2
}
