{
 "cells": [
  {
   "cell_type": "code",
   "execution_count": null,
   "metadata": {},
   "outputs": [],
   "source": [
    "import librosa\n",
    "import soundfile as sf\n",
    "import numpy as np\n",
    "import os\n",
    "import matplotlib.pyplot as plt\n",
    "\n",
    "def extract_mfcc(file_path, n_mfcc=13, hop_length=512, n_fft=2048):\n",
    "    # Load audio file using soundfile\n",
    "    audio, sr = sf.read(file_path)\n",
    "\n",
    "    # Extract MFCC features\n",
    "    mfccs = librosa.feature.mfcc(y=audio, sr=sr, n_mfcc=n_mfcc, hop_length=hop_length, n_fft=n_fft)\n",
    "\n",
    "    return mfccs\n",
    "\n",
    "def process_timit_data(data_path, output_path):\n",
    "    # Create output directory if it doesn't exist\n",
    "    if not os.path.exists(output_path):\n",
    "        os.makedirs(output_path)\n",
    "\n",
    "    # Process each TIMIT file\n",
    "    for root, dirs, files in os.walk(data_path):\n",
    "        for file in files:\n",
    "            if file.endswith(\".WAV\"):\n",
    "                file_path = os.path.join(root, file)\n",
    "                \n",
    "                # Extract subfolder name from the TIMIT path\n",
    "                subfolder_name = os.path.relpath(root, data_path)\n",
    "\n",
    "                # Create subfolder in the output directory\n",
    "                output_subfolder = os.path.join(output_path, subfolder_name)\n",
    "                if not os.path.exists(output_subfolder):\n",
    "                    os.makedirs(output_subfolder)\n",
    "\n",
    "                # Extract MFCC features\n",
    "                mfccs = extract_mfcc(file_path)\n",
    "\n",
    "                # Save MFCC matrix in the subfolder\n",
    "                output_file = os.path.join(output_subfolder, os.path.splitext(file)[0] + \"_mfcc.npy\")\n",
    "                np.save(output_file, mfccs.T)\n",
    "\n",
    "                print(f\"Processed {file} and saved MFCC matrix to {output_file}\")\n",
    "\n",
    "if __name__ == \"__main__\":\n",
    "    # Set the path to the TIMIT dataset and output directory\n",
    "    timit_data_path = \"/Users/salman/Desktop/TIMIT/Data\"\n",
    "    output_directory = \"/Users/salman/Desktop/TIMIT/Output\"\n",
    "\n",
    "    process_timit_data(timit_data_path, output_directory)"
   ]
  },
  {
   "cell_type": "code",
   "execution_count": null,
   "metadata": {},
   "outputs": [],
   "source": [
    "mfcc_image = np.load('/Users/salman/Desktop/TIMIT/Output/FCJF0/SA1_mfcc.npy')\n",
    "print(\"MFCC Image Shape:\", mfcc_image.shape)\n",
    "# Display MFCC as an image\n",
    "plt.figure(figsize=(10, 4))\n",
    "librosa.display.specshow(librosa.power_to_db(mfcc_image, ref=np.max), y_axis='time', x_axis='mel')\n",
    "plt.colorbar(format='%+2.0f dB')\n",
    "plt.title('MFCC')\n",
    "plt.show()"
   ]
  }
 ],
 "metadata": {
  "language_info": {
   "name": "python"
  }
 },
 "nbformat": 4,
 "nbformat_minor": 2
}
