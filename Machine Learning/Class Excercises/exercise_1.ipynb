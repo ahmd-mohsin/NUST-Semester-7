{
 "cells": [
  {
   "cell_type": "markdown",
   "metadata": {},
   "source": [
    "### Bayes Classification of MNIST Dataset"
   ]
  },
  {
   "cell_type": "code",
   "execution_count": null,
   "metadata": {},
   "outputs": [],
   "source": [
    "from __future__ import print_function, division\n",
    "from future.utils import iteritems\n",
    "from builtins import range, input\n",
    "import numpy as np\n",
    "import matplotlib.pyplot as plt\n",
    "from datetime import datetime\n",
    "from keras.datasets import mnist\n",
    "from scipy.stats import norm\n",
    "from scipy.stats import multivariate_normal as mvn"
   ]
  },
  {
   "cell_type": "code",
   "execution_count": null,
   "metadata": {},
   "outputs": [],
   "source": [
    "from numba import jit\n",
    "\n",
    "class Bayes(object):\n",
    "    \"\"\"A class for Bayes classifier.\n",
    "\n",
    "    Computes the probability as:  P(Y|X) = P(X|Y) * P(Y) / P(X)\n",
    "    or, posterior = likelihood * prior / evidence\n",
    "    \"\"\"\n",
    "\n",
    "    def fit(self, X, Y, smoothing=1e-2):\n",
    "        N, D = X.shape\n",
    "        self.gaussian = dict()\n",
    "        self.priors = dict()\n",
    "        labels = set(Y)\n",
    "        for c in labels:\n",
    "            current_x = X[Y == c]\n",
    "            self.gaussian[c] = {\n",
    "                \"mean\": current_x.mean(axis=0),\n",
    "                \"cov\": np.cov(current_x.T) + np.eye(D) * smoothing,\n",
    "            }\n",
    "            self.priors[c] = float(len(Y[Y == c])) / len(Y)\n",
    "\n",
    "    def score(self, X, Y):\n",
    "        P = self.predict(X)\n",
    "        return np.mean(P == Y)\n",
    "\n",
    "    # Main Bayes Classifier\n",
    "    def predict(self, X):\n",
    "        N, D = X.shape\n",
    "        K = len(self.gaussian)\n",
    "        log_P = np.zeros((N, K))\n",
    "        for c, g in self.gaussian.items():\n",
    "            mean, cov = g[\"mean\"], g[\"cov\"]\n",
    "            cov += np.eye(D) * 1e-6  # regularize covariance\n",
    "            cov_inv = np.linalg.inv(cov)\n",
    "            det_cov = np.linalg.det(cov)\n",
    "            log_prior = np.log(self.priors[c])\n",
    "            for i in range(N):\n",
    "                x = X[i]\n",
    "                diff = x - mean\n",
    "                log_exponent = -0.5 * diff.dot(cov_inv).dot(diff)\n",
    "                log_likelihood = (\n",
    "                    log_exponent\n",
    "                    - 0.5 * D * np.log(2 * np.pi)\n",
    "                    - 0.5 * np.log(np.abs(det_cov) + 1e-6)\n",
    "                )\n",
    "                log_P[i, c] = log_likelihood + log_prior\n",
    "\n",
    "        return np.argmax(log_P, axis=1)"
   ]
  },
  {
   "cell_type": "markdown",
   "metadata": {},
   "source": [
    "Prepare the MNIST Dataset"
   ]
  },
  {
   "cell_type": "code",
   "execution_count": null,
   "metadata": {},
   "outputs": [],
   "source": [
    "# Load the data\n",
    "(X_train, Y_train), (X_test, Y_test) = mnist.load_data()\n",
    "\n",
    "# Flatten the data\n",
    "X_train = X_train.reshape(X_train.shape[0], -1)\n",
    "X_test = X_test.reshape(X_test.shape[0], -1)\n",
    "\n",
    "# Normalize the pixel values to be between 0 and 1\n",
    "X_train = X_train / 255.0\n",
    "X_test = X_test / 255.0"
   ]
  },
  {
   "cell_type": "markdown",
   "metadata": {},
   "source": [
    "Fit a Naive Bayes Classifier"
   ]
  },
  {
   "cell_type": "code",
   "execution_count": null,
   "metadata": {},
   "outputs": [],
   "source": [
    "model = Bayes()\n",
    "model.fit(X_train, Y_train)"
   ]
  },
  {
   "cell_type": "markdown",
   "metadata": {},
   "source": [
    "Classify the test data"
   ]
  },
  {
   "cell_type": "code",
   "execution_count": null,
   "metadata": {},
   "outputs": [],
   "source": [
    "print(\"Train accuracy:\", model.score(X_train, Y_train))\n",
    "print(\"Test accuracy:\", model.score(X_test, Y_test))"
   ]
  },
  {
   "cell_type": "markdown",
   "metadata": {},
   "source": [
    "Mean of each class"
   ]
  },
  {
   "cell_type": "code",
   "execution_count": null,
   "metadata": {},
   "outputs": [],
   "source": [
    "for c, g in model.gaussian.items():\n",
    "    plt.imshow(g[\"mean\"].reshape(28, 28))\n",
    "    plt.title(c)\n",
    "    plt.show()"
   ]
  }
 ],
 "metadata": {
  "kernelspec": {
   "display_name": "ml",
   "language": "python",
   "name": "python3"
  },
  "language_info": {
   "codemirror_mode": {
    "name": "ipython",
    "version": 3
   },
   "file_extension": ".py",
   "mimetype": "text/x-python",
   "name": "python",
   "nbconvert_exporter": "python",
   "pygments_lexer": "ipython3",
   "version": "3.10.12"
  },
  "orig_nbformat": 4
 },
 "nbformat": 4,
 "nbformat_minor": 2
}
